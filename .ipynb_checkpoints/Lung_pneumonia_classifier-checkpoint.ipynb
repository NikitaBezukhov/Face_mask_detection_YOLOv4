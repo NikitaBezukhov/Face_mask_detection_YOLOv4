{
 "cells": [
  {
   "cell_type": "markdown",
   "metadata": {
    "id": "wbqytk6jSbkX"
   },
   "source": [
    "# __This is a notebook of a PyTorch lung pneumonia classification with ResNet18!__ \n",
    "# Project by __[Nikita Bezukhov](https://github.com/NikitaBezukhov)__!\n",
    "### The dataset is __[CoronaHack -Chest X-Ray-Dataset from Kaggle](https://www.kaggle.com/praveengovi/coronahack-chest-xraydataset)__.\n",
    "### Was built in __[Google Colab](https://colab.research.google.com/)__ environment, so make any adjustments needed for it to work on your machine."
   ]
  },
  {
   "cell_type": "markdown",
   "metadata": {
    "id": "Nyn0XcBxDNT5"
   },
   "source": [
    "####\n",
    "####\n",
    "## __1. First lets install, import and define all necessary libraries/classes/functions that we will be using.__"
   ]
  },
  {
   "cell_type": "code",
   "execution_count": null,
   "metadata": {
    "colab": {
     "base_uri": "https://localhost:8080/"
    },
    "id": "9Jei2uLoDNT5",
    "outputId": "f1371aa9-d8f1-4f2f-c800-27c137936efc"
   },
   "outputs": [],
   "source": [
    "pip install barbar pytorch-ignite"
   ]
  },
  {
   "cell_type": "code",
   "execution_count": 22,
   "metadata": {
    "id": "k-VTe2oLcetp"
   },
   "outputs": [
    {
     "ename": "ModuleNotFoundError",
     "evalue": "No module named 'plotly'",
     "output_type": "error",
     "traceback": [
      "\u001b[1;31m---------------------------------------------------------------------------\u001b[0m",
      "\u001b[1;31mModuleNotFoundError\u001b[0m                       Traceback (most recent call last)",
      "\u001b[1;32m<ipython-input-22-3428b964d46b>\u001b[0m in \u001b[0;36m<module>\u001b[1;34m\u001b[0m\n\u001b[0;32m     12\u001b[0m \u001b[1;32mimport\u001b[0m \u001b[0mpandas\u001b[0m \u001b[1;32mas\u001b[0m \u001b[0mpd\u001b[0m\u001b[1;33m\u001b[0m\u001b[1;33m\u001b[0m\u001b[0m\n\u001b[0;32m     13\u001b[0m \u001b[1;32mimport\u001b[0m \u001b[0mmatplotlib\u001b[0m\u001b[1;33m.\u001b[0m\u001b[0mpyplot\u001b[0m \u001b[1;32mas\u001b[0m \u001b[0mplt\u001b[0m\u001b[1;33m\u001b[0m\u001b[1;33m\u001b[0m\u001b[0m\n\u001b[1;32m---> 14\u001b[1;33m \u001b[1;32mimport\u001b[0m \u001b[0mplotly\u001b[0m\u001b[1;33m.\u001b[0m\u001b[0mexpress\u001b[0m \u001b[1;32mas\u001b[0m \u001b[0mpx\u001b[0m\u001b[1;33m\u001b[0m\u001b[1;33m\u001b[0m\u001b[0m\n\u001b[0m\u001b[0;32m     15\u001b[0m \u001b[1;32mimport\u001b[0m \u001b[0mplotly\u001b[0m\u001b[1;33m.\u001b[0m\u001b[0mgraph_objects\u001b[0m \u001b[1;32mas\u001b[0m \u001b[0mgo\u001b[0m\u001b[1;33m\u001b[0m\u001b[1;33m\u001b[0m\u001b[0m\n\u001b[0;32m     16\u001b[0m \u001b[1;32mfrom\u001b[0m \u001b[0mtorchvision\u001b[0m \u001b[1;32mimport\u001b[0m \u001b[0mtransforms\u001b[0m\u001b[1;33m,\u001b[0m \u001b[0mdatasets\u001b[0m\u001b[1;33m\u001b[0m\u001b[1;33m\u001b[0m\u001b[0m\n",
      "\u001b[1;31mModuleNotFoundError\u001b[0m: No module named 'plotly'"
     ]
    }
   ],
   "source": [
    "import torch\n",
    "import gc\n",
    "import os\n",
    "import cv2\n",
    "import random\n",
    "import torchvision\n",
    "import shutil\n",
    "import torch.nn as nn\n",
    "import torch.nn.functional as F\n",
    "import torch.nn.init as init\n",
    "import numpy as np\n",
    "import pandas as pd\n",
    "import matplotlib.pyplot as plt\n",
    "import plotly.express as px\n",
    "import plotly.graph_objects as go\n",
    "from torchvision import transforms, datasets\n",
    "from shutil import copyfile, move\n",
    "from torch.utils.tensorboard import SummaryWriter\n",
    "from barbar import Bar\n",
    "from torchsummary import summary\n",
    "from ignite.metrics import Accuracy, Precision, Recall, Fbeta\n",
    "from sklearn.metrics import confusion_matrix, ConfusionMatrixDisplay, classification_report, roc_curve, auc"
   ]
  },
  {
   "cell_type": "code",
   "execution_count": 4,
   "metadata": {
    "id": "M8on3lRScesC"
   },
   "outputs": [],
   "source": [
    "class EarlyStopping:\n",
    "    \"\"\"Early stops the training if validation loss doesn't improve after a given patience.\"\"\"\n",
    "    def __init__(self, patience=7, verbose=False, delta=0, path='checkpoint.pt', trace_func=print):\n",
    "        \"\"\"\n",
    "        Args:\n",
    "            patience (int): How long to wait after last time validation loss improved.\n",
    "                            Default: 7\n",
    "            verbose (bool): If True, prints a message for each validation loss improvement. \n",
    "                            Default: False\n",
    "            delta (float): Minimum change in the monitored quantity to qualify as an improvement.\n",
    "                            Default: 0\n",
    "            path (str): Path for the checkpoint to be saved to.\n",
    "                            Default: 'checkpoint.pt'\n",
    "            trace_func (function): trace print function.\n",
    "                            Default: print            \n",
    "        \"\"\"\n",
    "        self.patience = patience\n",
    "        self.verbose = verbose\n",
    "        self.counter = 0\n",
    "        self.best_score = None\n",
    "        self.early_stop = False\n",
    "        self.val_loss_min = np.Inf\n",
    "        self.delta = delta\n",
    "        self.path = path\n",
    "        self.trace_func = trace_func\n",
    "    def __call__(self, val_loss, model):\n",
    "\n",
    "        score = -val_loss\n",
    "\n",
    "        if self.best_score is None:\n",
    "            self.best_score = score\n",
    "            self.save_checkpoint(val_loss, model)\n",
    "        elif score < self.best_score + self.delta:\n",
    "            self.counter += 1\n",
    "            self.trace_func(f'EarlyStopping counter: {self.counter} out of {self.patience}')\n",
    "            if self.counter >= self.patience:\n",
    "                self.early_stop = True\n",
    "        else:\n",
    "            self.best_score = score\n",
    "            self.save_checkpoint(val_loss, model)\n",
    "            self.counter = 0\n",
    "\n",
    "    def save_checkpoint(self, val_loss, model):\n",
    "        '''Saves model when monitored metric decrease.'''\n",
    "        if self.verbose:\n",
    "            self.trace_func(f'Monitored metric has improved ({self.val_loss_min:.6f} --> {val_loss:.6f}).  Saving model ...')\n",
    "        torch.save(model.state_dict(), '/content/drive/MyDrive/lungmodel18.pt') \n",
    "        self.val_loss_min = val_loss"
   ]
  },
  {
   "cell_type": "code",
   "execution_count": 5,
   "metadata": {
    "id": "ZDhPy7JTDNT8"
   },
   "outputs": [],
   "source": [
    "def Find_Optimal_Cutoff(target, predicted):\n",
    "    \"\"\" Find the optimal probability cutoff point for a classification model related to event rate\n",
    "    Parameters\n",
    "    ----------\n",
    "    target : Matrix with dependent or target data, where rows are observations\n",
    "\n",
    "    predicted : Matrix with predicted data, where rows are observations\n",
    "\n",
    "    Returns\n",
    "    -------     \n",
    "    list type, with optimal cutoff value\n",
    "        \n",
    "    \"\"\"\n",
    "    fpr, tpr, threshold = roc_curve(target, predicted)\n",
    "    i = np.arange(len(tpr)) \n",
    "    roc = pd.DataFrame({'tf' : pd.Series(tpr-(1-fpr), index=i), 'threshold' : pd.Series(threshold, index=i)})\n",
    "    roc_t = roc.iloc[(roc.tf-0).abs().argsort()[:1]]\n",
    "\n",
    "    return list(roc_t['threshold']) "
   ]
  },
  {
   "cell_type": "markdown",
   "metadata": {
    "id": "a6gOtqbjDNT9"
   },
   "source": [
    "## __2. Data preparation.__\n",
    "### Dataset consists of 2 classes: Healthy and Pneumonia. Pneumonia can also be of different kinds, but I decided to make this a binary classification problem.\n",
    "### So now we unzip it and prepare folders for data split. "
   ]
  },
  {
   "cell_type": "code",
   "execution_count": null,
   "metadata": {
    "colab": {
     "base_uri": "https://localhost:8080/"
    },
    "id": "shiaY6Kmcepi",
    "outputId": "307a0cd4-ac1d-49e1-a19c-68d883f6a07d"
   },
   "outputs": [],
   "source": [
    "!unzip /content/drive/MyDrive/lungscans.zip -d /tmp"
   ]
  },
  {
   "cell_type": "code",
   "execution_count": 7,
   "metadata": {
    "id": "kZWr--LOcemo"
   },
   "outputs": [],
   "source": [
    "os.mkdir('/content/scans/')\n",
    "os.mkdir('/content/scans/val/')\n",
    "os.mkdir('/content/scans/train/')\n",
    "os.mkdir('/content/scans/val/0.healthy/')\n",
    "os.mkdir('/content/scans/val/1.pneumonia/')\n",
    "os.mkdir('/content/scans/train/0.healthy/')\n",
    "os.mkdir('/content/scans/train/1.pneumonia/')"
   ]
  },
  {
   "cell_type": "code",
   "execution_count": 8,
   "metadata": {
    "id": "13Iv_hcacekh"
   },
   "outputs": [],
   "source": [
    "orig_train = '/tmp/Coronahack-Chest-XRay-Dataset/Coronahack-Chest-XRay-Dataset/train'\n",
    "orig_val = '/tmp/Coronahack-Chest-XRay-Dataset/Coronahack-Chest-XRay-Dataset/test'\n",
    "\n",
    "training_healthy = '/content/scans/train/0.healthy/'\n",
    "training_pneumonia = '/content/scans/train/1.pneumonia/'\n",
    "validation_healthy = '/content/scans/val/0.healthy/'\n",
    "validation_pneumonia = '/content/scans/val/1.pneumonia/'"
   ]
  },
  {
   "cell_type": "markdown",
   "metadata": {
    "id": "gvytILNPDNUA"
   },
   "source": [
    "##\n",
    "### Now we will read into the csv with info about dataset and using list comprehensions save image names, dataset type and diagnosis in variables.\n",
    "### Then using for loop we will sort and copy them into the corresponding folders."
   ]
  },
  {
   "cell_type": "code",
   "execution_count": 9,
   "metadata": {
    "id": "C6e7FsEefXRL"
   },
   "outputs": [],
   "source": [
    "data = pd.read_csv(r'/tmp/Chest_xray_Corona_Metadata.csv')"
   ]
  },
  {
   "cell_type": "code",
   "execution_count": 10,
   "metadata": {
    "colab": {
     "base_uri": "https://localhost:8080/",
     "height": 204
    },
    "id": "JZNJDhe2ffpZ",
    "outputId": "fbf68308-97dc-4f81-a4ff-9a5d7bf6c8ac"
   },
   "outputs": [
    {
     "data": {
      "text/html": [
       "<div>\n",
       "<style scoped>\n",
       "    .dataframe tbody tr th:only-of-type {\n",
       "        vertical-align: middle;\n",
       "    }\n",
       "\n",
       "    .dataframe tbody tr th {\n",
       "        vertical-align: top;\n",
       "    }\n",
       "\n",
       "    .dataframe thead th {\n",
       "        text-align: right;\n",
       "    }\n",
       "</style>\n",
       "<table border=\"1\" class=\"dataframe\">\n",
       "  <thead>\n",
       "    <tr style=\"text-align: right;\">\n",
       "      <th></th>\n",
       "      <th>Unnamed: 0</th>\n",
       "      <th>X_ray_image_name</th>\n",
       "      <th>Label</th>\n",
       "      <th>Dataset_type</th>\n",
       "      <th>Label_2_Virus_category</th>\n",
       "      <th>Label_1_Virus_category</th>\n",
       "    </tr>\n",
       "  </thead>\n",
       "  <tbody>\n",
       "    <tr>\n",
       "      <th>0</th>\n",
       "      <td>0</td>\n",
       "      <td>IM-0128-0001.jpeg</td>\n",
       "      <td>Normal</td>\n",
       "      <td>TRAIN</td>\n",
       "      <td>NaN</td>\n",
       "      <td>NaN</td>\n",
       "    </tr>\n",
       "    <tr>\n",
       "      <th>1</th>\n",
       "      <td>1</td>\n",
       "      <td>IM-0127-0001.jpeg</td>\n",
       "      <td>Normal</td>\n",
       "      <td>TRAIN</td>\n",
       "      <td>NaN</td>\n",
       "      <td>NaN</td>\n",
       "    </tr>\n",
       "    <tr>\n",
       "      <th>2</th>\n",
       "      <td>2</td>\n",
       "      <td>IM-0125-0001.jpeg</td>\n",
       "      <td>Normal</td>\n",
       "      <td>TRAIN</td>\n",
       "      <td>NaN</td>\n",
       "      <td>NaN</td>\n",
       "    </tr>\n",
       "    <tr>\n",
       "      <th>3</th>\n",
       "      <td>3</td>\n",
       "      <td>IM-0122-0001.jpeg</td>\n",
       "      <td>Normal</td>\n",
       "      <td>TRAIN</td>\n",
       "      <td>NaN</td>\n",
       "      <td>NaN</td>\n",
       "    </tr>\n",
       "    <tr>\n",
       "      <th>4</th>\n",
       "      <td>4</td>\n",
       "      <td>IM-0119-0001.jpeg</td>\n",
       "      <td>Normal</td>\n",
       "      <td>TRAIN</td>\n",
       "      <td>NaN</td>\n",
       "      <td>NaN</td>\n",
       "    </tr>\n",
       "  </tbody>\n",
       "</table>\n",
       "</div>"
      ],
      "text/plain": [
       "   Unnamed: 0   X_ray_image_name  ... Label_2_Virus_category Label_1_Virus_category\n",
       "0           0  IM-0128-0001.jpeg  ...                    NaN                    NaN\n",
       "1           1  IM-0127-0001.jpeg  ...                    NaN                    NaN\n",
       "2           2  IM-0125-0001.jpeg  ...                    NaN                    NaN\n",
       "3           3  IM-0122-0001.jpeg  ...                    NaN                    NaN\n",
       "4           4  IM-0119-0001.jpeg  ...                    NaN                    NaN\n",
       "\n",
       "[5 rows x 6 columns]"
      ]
     },
     "execution_count": 10,
     "metadata": {
      "tags": []
     },
     "output_type": "execute_result"
    }
   ],
   "source": [
    "data.head()"
   ]
  },
  {
   "cell_type": "code",
   "execution_count": 11,
   "metadata": {
    "colab": {
     "base_uri": "https://localhost:8080/"
    },
    "id": "uYPmpUBxfXLk",
    "outputId": "b65ee62e-0b80-41dd-ffa6-a350b146189d"
   },
   "outputs": [
    {
     "data": {
      "text/plain": [
       "Index(['Unnamed: 0', 'X_ray_image_name', 'Label', 'Dataset_type',\n",
       "       'Label_2_Virus_category', 'Label_1_Virus_category'],\n",
       "      dtype='object')"
      ]
     },
     "execution_count": 11,
     "metadata": {
      "tags": []
     },
     "output_type": "execute_result"
    }
   ],
   "source": [
    "data.columns"
   ]
  },
  {
   "cell_type": "code",
   "execution_count": 12,
   "metadata": {
    "id": "VJfQivCvfXF-"
   },
   "outputs": [],
   "source": [
    "image_names = [x for x in data['X_ray_image_name']]\n",
    "dataset_type = [x for x in data['Dataset_type']]\n",
    "healthy_or_not = [x for x in data['Label']]"
   ]
  },
  {
   "cell_type": "code",
   "execution_count": 13,
   "metadata": {
    "colab": {
     "base_uri": "https://localhost:8080/"
    },
    "id": "BJQq4bvSfW_F",
    "outputId": "d0c6103f-925f-4438-ed17-80e81437a67e"
   },
   "outputs": [
    {
     "name": "stdout",
     "output_type": "stream",
     "text": [
      "5910\n",
      "5910\n",
      "5910\n"
     ]
    }
   ],
   "source": [
    "print(len(image_names))\n",
    "print(len(dataset_type))\n",
    "print(len(healthy_or_not))"
   ]
  },
  {
   "cell_type": "code",
   "execution_count": 14,
   "metadata": {
    "id": "hKY43UTKceho"
   },
   "outputs": [],
   "source": [
    "for index, image in enumerate(image_names):\n",
    "    if healthy_or_not[index] == 'Normal':\n",
    "        if dataset_type[index] == 'TRAIN':\n",
    "            copyfile(os.path.join(orig_train, image), os.path.join(training_healthy, image))\n",
    "        elif dataset_type[index] == 'TEST':\n",
    "            copyfile(os.path.join(orig_val, image), os.path.join(validation_healthy, image))\n",
    "    elif healthy_or_not[index] == 'Pnemonia': \n",
    "        if dataset_type[index] == 'TRAIN':\n",
    "            copyfile(os.path.join(orig_train, image), os.path.join(training_pneumonia, image))\n",
    "        elif dataset_type[index] == 'TEST':    \n",
    "            copyfile(os.path.join(orig_val, image), os.path.join(validation_pneumonia, image))"
   ]
  },
  {
   "cell_type": "code",
   "execution_count": 15,
   "metadata": {
    "colab": {
     "base_uri": "https://localhost:8080/"
    },
    "id": "9Q17cssOcefn",
    "outputId": "30e5d715-e3b5-46ca-ee3f-e09c9df3ae24"
   },
   "outputs": [
    {
     "name": "stdout",
     "output_type": "stream",
     "text": [
      "1342\n",
      "234\n",
      "3944\n",
      "390\n"
     ]
    }
   ],
   "source": [
    "# print amount of pictures for each class train/val.\n",
    "print(len(os.listdir(training_healthy)))\n",
    "print(len(os.listdir(validation_healthy)))\n",
    "print(len(os.listdir(training_pneumonia)))\n",
    "print(len(os.listdir(validation_pneumonia)))"
   ]
  },
  {
   "cell_type": "markdown",
   "metadata": {
    "id": "5D31zMBxDNUC"
   },
   "source": [
    "### Even though dataset is skewed, training with class weights didnt give any improvement over straight up imbalanced training. So we will just leave it as is. "
   ]
  },
  {
   "cell_type": "code",
   "execution_count": 16,
   "metadata": {
    "id": "NHBwPLk7ceej"
   },
   "outputs": [],
   "source": [
    "traindir = r'/content/scans/train/'\n",
    "valdir = r'/content/scans/val/'"
   ]
  },
  {
   "cell_type": "markdown",
   "metadata": {
    "id": "ZKhw0OCiDNUD"
   },
   "source": [
    "##\n",
    "## __3. Data augmentation.__\n",
    "### Dataset consists of 5910 unique photos with height and width around 300-400 pixels (all are different).\n",
    "### Since we are using ResNet18 we will resize them to 224x224. \n",
    "### As random augmentations we will also incorporate Horizontal flip and Random affine augmentations (rotation, small translation and rescaling). Even though random rotations are probably not the most beneficial for this type of data (X-ray), they mostly help to prevent fast overfitting.\n",
    "### And because we will be using pretrained ResNet18 ImageNet weights to start with, we will use ImageNet style normalization.\n",
    "### We will choose batch size of 64.\n"
   ]
  },
  {
   "cell_type": "code",
   "execution_count": 17,
   "metadata": {
    "id": "GMiy6Ke5cech"
   },
   "outputs": [],
   "source": [
    "train_transforms = transforms.Compose([\n",
    "    transforms.Resize((224, 224)),\n",
    "    transforms.RandomApply(transforms=[transforms.RandomAffine(\n",
    "                           degrees=(-180, 180), translate=(0.10, 0.10), scale=(0.9, 1.10))], p=0.99),\n",
    "    transforms.RandomHorizontalFlip(p=0.5),\n",
    "    transforms.ToTensor(),\n",
    "    transforms.Normalize(mean=[0.485, 0.456, 0.406], std=[0.229, 0.224, 0.225])\n",
    "    ])\n",
    "\n",
    "val_transforms = transforms.Compose([\n",
    "    transforms.Resize((224, 224)),\n",
    "    transforms.ToTensor(),\n",
    "    transforms.Normalize(mean=[0.485, 0.456, 0.406], std=[0.229, 0.224, 0.225])\n",
    "    ])\n",
    "\n",
    "train_dataset = datasets.ImageFolder(\n",
    "    traindir, transform=train_transforms)\n",
    "\n",
    "val_dataset = datasets.ImageFolder(\n",
    "    valdir, transform=val_transforms)"
   ]
  },
  {
   "cell_type": "code",
   "execution_count": 18,
   "metadata": {
    "id": "XM4pt8FQceae"
   },
   "outputs": [],
   "source": [
    "train_loader = torch.utils.data.DataLoader(\n",
    "    train_dataset, batch_size=64, shuffle=True,\n",
    "    pin_memory=False, drop_last=False)\n",
    "\n",
    "val_loader = torch.utils.data.DataLoader(\n",
    "    val_dataset, batch_size=64, shuffle=True,\n",
    "    pin_memory=False, drop_last=False)"
   ]
  },
  {
   "cell_type": "code",
   "execution_count": 19,
   "metadata": {
    "colab": {
     "base_uri": "https://localhost:8080/"
    },
    "id": "8bm_xk75juAt",
    "outputId": "1b716f38-80a6-4f32-948c-69242dd32ecf"
   },
   "outputs": [
    {
     "name": "stdout",
     "output_type": "stream",
     "text": [
      "{'0.healthy': 0, '1.pneumonia': 1}\n",
      "{'0.healthy': 0, '1.pneumonia': 1}\n"
     ]
    }
   ],
   "source": [
    "print(val_dataset.class_to_idx)\n",
    "print(train_dataset.class_to_idx)"
   ]
  },
  {
   "cell_type": "markdown",
   "metadata": {
    "id": "UKnwSnt9DNUE"
   },
   "source": [
    "##\n",
    "## __4. Training.__\n",
    "### Next we define model, change final layer to a 1 way linear classifier, choose BCEWithLogitsLoss function, Adam optimizer (with 0.0005 weight decay), define TensorBoard writer, and since we will be using early stopping, the epoch number will be set to 999."
   ]
  },
  {
   "cell_type": "code",
   "execution_count": 32,
   "metadata": {
    "id": "9dPBrtuXceXd"
   },
   "outputs": [],
   "source": [
    "device = 'cuda'\n",
    "\n",
    "model = torchvision.models.resnet18(pretrained=True, progress=True).to(device)\n",
    "\n",
    "model.fc = nn.Linear(512, 1).to(device)\n",
    "\n",
    "criterion = nn.BCEWithLogitsLoss()\n",
    "\n",
    "optimizer = torch.optim.Adam(model.parameters(), weight_decay=0.0005)\n",
    "\n",
    "epochs = 999\n",
    "\n",
    "writer = SummaryWriter(log_dir='/content/drive/MyDrive/lung_logs', filename_suffix='lungsppy')"
   ]
  },
  {
   "cell_type": "code",
   "execution_count": null,
   "metadata": {
    "id": "37aS5fUck4CZ"
   },
   "outputs": [],
   "source": [
    "# Shows info about model\n",
    "summary(model, input_size=(3, 224, 224))"
   ]
  },
  {
   "cell_type": "markdown",
   "metadata": {
    "id": "Nqfm8f3fDNUF"
   },
   "source": [
    "##\n",
    "### Early stopping tracks validation loss decrease, patience was chosen to be 10 epochs. "
   ]
  },
  {
   "cell_type": "code",
   "execution_count": 33,
   "metadata": {
    "colab": {
     "base_uri": "https://localhost:8080/"
    },
    "id": "qTXIfKi6ceVh",
    "outputId": "85497dbb-4c31-4780-ac0e-7e60e0c1f3ca"
   },
   "outputs": [
    {
     "name": "stdout",
     "output_type": "stream",
     "text": [
      "Epoch 1\n",
      "5286/5286: [===============================>] - ETA 1.1s\n",
      "Train Accuracy: 0.9055996973136587\n",
      "Train Precision: 0.9368501141262998\n",
      "Train Recall: 0.9366125760649088\n",
      "Train F1: 0.9367313300367689\n",
      "          \n",
      "Val Accuracy: 0.8413461538461539\n",
      "Val Precision: 0.8\n",
      "Val Recall: 0.9948717948717949\n",
      "Val F1: 0.8868571428571423\n",
      "          \n",
      "Training Loss: 0.2356\n",
      "Validation Loss: 0.4001\n",
      "Monitored metric has improved (inf --> 0.400145).  Saving model ...\n",
      "Epoch 2\n",
      "5286/5286: [===============================>] - ETA 1.1s\n",
      "Train Accuracy: 0.9381384790011351\n",
      "Train Precision: 0.9547397535831028\n",
      "Train Recall: 0.9627281947261663\n",
      "Train F1: 0.9587173336699906\n",
      "          \n",
      "Val Accuracy: 0.8894230769230769\n",
      "Val Precision: 0.8623024830699775\n",
      "Val Recall: 0.9794871794871794\n",
      "Val F1: 0.917166866746698\n",
      "          \n",
      "Training Loss: 0.1581\n",
      "Validation Loss: 0.3336\n",
      "Monitored metric has improved (0.400145 --> 0.333563).  Saving model ...\n",
      "Epoch 3\n",
      "5286/5286: [===============================>] - ETA 1.2s\n",
      "Train Accuracy: 0.9445705637533106\n",
      "Train Precision: 0.9636779273558547\n",
      "Train Recall: 0.9619675456389453\n",
      "Train F1: 0.9628219769064833\n",
      "          \n",
      "Val Accuracy: 0.8798076923076923\n",
      "Val Precision: 0.8587699316628702\n",
      "Val Recall: 0.9666666666666667\n",
      "Val F1: 0.9095295536791309\n",
      "          \n",
      "Training Loss: 0.1406\n",
      "Validation Loss: 0.2888\n",
      "Monitored metric has improved (0.333563 --> 0.288762).  Saving model ...\n",
      "Epoch 4\n",
      "5286/5286: [===============================>] - ETA 1.1s\n",
      "Train Accuracy: 0.9521377222852819\n",
      "Train Precision: 0.96521300731031\n",
      "Train Recall: 0.970841784989858\n",
      "Train F1: 0.9680192137530015\n",
      "          \n",
      "Val Accuracy: 0.6538461538461539\n",
      "Val Precision: 0.9943181818181818\n",
      "Val Recall: 0.44871794871794873\n",
      "Val F1: 0.6183745583038864\n",
      "          \n",
      "Training Loss: 0.1327\n",
      "Validation Loss: 1.2822\n",
      "EarlyStopping counter: 1 out of 10\n",
      "Epoch 5\n",
      "5286/5286: [===============================>] - ETA 1.2s\n",
      "Train Accuracy: 0.9508134695421869\n",
      "Train Precision: 0.9646821392532795\n",
      "Train Recall: 0.9695740365111561\n",
      "Train F1: 0.9671219018715219\n",
      "          \n",
      "Val Accuracy: 0.8413461538461539\n",
      "Val Precision: 0.7987679671457906\n",
      "Val Recall: 0.9974358974358974\n",
      "Val F1: 0.8871151653363735\n",
      "          \n",
      "Training Loss: 0.1329\n",
      "Validation Loss: 0.4600\n",
      "EarlyStopping counter: 2 out of 10\n",
      "Epoch 6\n",
      "5286/5286: [===============================>] - ETA 1.2s\n",
      "Train Accuracy: 0.9498675747256905\n",
      "Train Precision: 0.9644029285533956\n",
      "Train Recall: 0.9685598377281948\n",
      "Train F1: 0.966476913345983\n",
      "          \n",
      "Val Accuracy: 0.7756410256410257\n",
      "Val Precision: 0.7367424242424242\n",
      "Val Recall: 0.9974358974358974\n",
      "Val F1: 0.8474945533769057\n",
      "          \n",
      "Training Loss: 0.1319\n",
      "Validation Loss: 0.5924\n",
      "EarlyStopping counter: 3 out of 10\n",
      "Epoch 7\n",
      "5286/5286: [===============================>] - ETA 1.0s\n",
      "Train Accuracy: 0.952894438138479\n",
      "Train Precision: 0.9638463469746422\n",
      "Train Recall: 0.9733772819472617\n",
      "Train F1: 0.9685883688659008\n",
      "          \n",
      "Val Accuracy: 0.8910256410256411\n",
      "Val Precision: 0.859375\n",
      "Val Recall: 0.9871794871794872\n",
      "Val F1: 0.9188544152744624\n",
      "          \n",
      "Training Loss: 0.1246\n",
      "Validation Loss: 0.3183\n",
      "EarlyStopping counter: 4 out of 10\n",
      "Epoch 8\n",
      "5286/5286: [===============================>] - ETA 1.0s\n",
      "Train Accuracy: 0.9553537646613697\n",
      "Train Precision: 0.9684183931278424\n",
      "Train Recall: 0.9718559837728195\n",
      "Train F1: 0.9701341432548716\n",
      "          \n",
      "Val Accuracy: 0.8269230769230769\n",
      "Val Precision: 0.7842741935483871\n",
      "Val Recall: 0.9974358974358974\n",
      "Val F1: 0.8781038374717828\n",
      "          \n",
      "Training Loss: 0.1182\n",
      "Validation Loss: 0.4223\n",
      "EarlyStopping counter: 5 out of 10\n",
      "Epoch 9\n",
      "5286/5286: [===============================>] - ETA 1.2s\n",
      "Train Accuracy: 0.9530836171017782\n",
      "Train Precision: 0.9666666666666667\n",
      "Train Recall: 0.9705882352941176\n",
      "Train F1: 0.9686234817813759\n",
      "          \n",
      "Val Accuracy: 0.9294871794871795\n",
      "Val Precision: 0.9158653846153846\n",
      "Val Recall: 0.9769230769230769\n",
      "Val F1: 0.9454094292803964\n",
      "          \n",
      "Training Loss: 0.1282\n",
      "Validation Loss: 0.1981\n",
      "Monitored metric has improved (0.288762 --> 0.198133).  Saving model ...\n",
      "Epoch 10\n",
      "5286/5286: [===============================>] - ETA 1.0s\n",
      "Train Accuracy: 0.9591373439273553\n",
      "Train Precision: 0.9707070707070707\n",
      "Train Recall: 0.9746450304259635\n",
      "Train F1: 0.9726720647773275\n",
      "          \n",
      "Val Accuracy: 0.9118589743589743\n",
      "Val Precision: 0.8832951945080092\n",
      "Val Recall: 0.9897435897435898\n",
      "Val F1: 0.9334945586457069\n",
      "          \n",
      "Training Loss: 0.1156\n",
      "Validation Loss: 0.2621\n",
      "EarlyStopping counter: 1 out of 10\n",
      "Epoch 11\n",
      "5286/5286: [===============================>] - ETA 1.1s\n",
      "Train Accuracy: 0.9580022701475596\n",
      "Train Precision: 0.9694752774974773\n",
      "Train Recall: 0.9743914807302231\n",
      "Train F1: 0.9719271623672224\n",
      "          \n",
      "Val Accuracy: 0.8365384615384616\n",
      "Val Precision: 0.7938775510204081\n",
      "Val Recall: 0.9974358974358974\n",
      "Val F1: 0.8840909090909085\n",
      "          \n",
      "Training Loss: 0.1098\n",
      "Validation Loss: 0.4598\n",
      "EarlyStopping counter: 2 out of 10\n",
      "Epoch 12\n",
      "5286/5286: [===============================>] - ETA 1.1s\n",
      "Train Accuracy: 0.9570563753310631\n",
      "Train Precision: 0.9701492537313433\n",
      "Train Recall: 0.9723630831643002\n",
      "Train F1: 0.9712549069266804\n",
      "          \n",
      "Val Accuracy: 0.6730769230769231\n",
      "Val Precision: 0.6570945945945946\n",
      "Val Recall: 0.9974358974358974\n",
      "Val F1: 0.7922606924643578\n",
      "          \n",
      "Training Loss: 0.1112\n",
      "Validation Loss: 1.1749\n",
      "EarlyStopping counter: 3 out of 10\n",
      "Epoch 13\n",
      "5286/5286: [===============================>] - ETA 1.1s\n",
      "Train Accuracy: 0.9562996594778661\n",
      "Train Precision: 0.9696433088793321\n",
      "Train Recall: 0.9718559837728195\n",
      "Train F1: 0.9707483854628334\n",
      "          \n",
      "Val Accuracy: 0.7163461538461539\n",
      "Val Precision: 0.6884955752212389\n",
      "Val Recall: 0.9974358974358974\n",
      "Val F1: 0.8146596858638737\n",
      "          \n",
      "Training Loss: 0.1233\n",
      "Validation Loss: 0.9041\n",
      "EarlyStopping counter: 4 out of 10\n",
      "Epoch 14\n",
      "5286/5286: [===============================>] - ETA 1.4s\n",
      "Train Accuracy: 0.9562996594778661\n",
      "Train Precision: 0.967514479979854\n",
      "Train Recall: 0.9741379310344828\n",
      "Train F1: 0.9708149084017682\n",
      "          \n",
      "Val Accuracy: 0.9214743589743589\n",
      "Val Precision: 0.9069212410501193\n",
      "Val Recall: 0.9743589743589743\n",
      "Val F1: 0.9394313967861553\n",
      "          \n",
      "Training Loss: 0.1171\n",
      "Validation Loss: 0.2405\n",
      "EarlyStopping counter: 5 out of 10\n",
      "Epoch 15\n",
      "5286/5286: [===============================>] - ETA 1.1s\n",
      "Train Accuracy: 0.9545970488081725\n",
      "Train Precision: 0.9674406865219586\n",
      "Train Recall: 0.9718559837728195\n",
      "Train F1: 0.9696433088793316\n",
      "          \n",
      "Val Accuracy: 0.8189102564102564\n",
      "Val Precision: 0.7775551102204409\n",
      "Val Recall: 0.9948717948717949\n",
      "Val F1: 0.8728908886389196\n",
      "          \n",
      "Training Loss: 0.1214\n",
      "Validation Loss: 0.5411\n",
      "EarlyStopping counter: 6 out of 10\n",
      "Epoch 16\n",
      "5286/5286: [===============================>] - ETA 0.9s\n",
      "Train Accuracy: 0.9606507756337496\n",
      "Train Precision: 0.9714790509843514\n",
      "Train Recall: 0.9759127789046653\n",
      "Train F1: 0.9736908676954207\n",
      "          \n",
      "Val Accuracy: 0.9262820512820513\n",
      "Val Precision: 0.9056603773584906\n",
      "Val Recall: 0.9846153846153847\n",
      "Val F1: 0.943488943488943\n",
      "          \n",
      "Training Loss: 0.1090\n",
      "Validation Loss: 0.2086\n",
      "EarlyStopping counter: 7 out of 10\n",
      "Epoch 17\n",
      "5286/5286: [===============================>] - ETA 1.2s\n",
      "Train Accuracy: 0.9578130911842603\n",
      "Train Precision: 0.9716096324461343\n",
      "Train Recall: 0.9718559837728195\n",
      "Train F1: 0.9717327924958796\n",
      "          \n",
      "Val Accuracy: 0.9214743589743589\n",
      "Val Precision: 0.9030732860520094\n",
      "Val Recall: 0.9794871794871794\n",
      "Val F1: 0.9397293972939724\n",
      "          \n",
      "Training Loss: 0.1133\n",
      "Validation Loss: 0.2492\n",
      "EarlyStopping counter: 8 out of 10\n",
      "Epoch 18\n",
      "5286/5286: [===============================>] - ETA 1.1s\n",
      "Train Accuracy: 0.963677639046538\n",
      "Train Precision: 0.9727822580645161\n",
      "Train Recall: 0.9787018255578094\n",
      "Train F1: 0.9757330637007072\n",
      "          \n",
      "Val Accuracy: 0.6778846153846154\n",
      "Val Precision: 0.6604414261460102\n",
      "Val Recall: 0.9974358974358974\n",
      "Val F1: 0.7946884576098054\n",
      "          \n",
      "Training Loss: 0.1017\n",
      "Validation Loss: 1.4581\n",
      "EarlyStopping counter: 9 out of 10\n",
      "Epoch 19\n",
      "5286/5286: [===============================>] - ETA 1.1s\n",
      "Train Accuracy: 0.9610291335603481\n",
      "Train Precision: 0.9729251012145749\n",
      "Train Recall: 0.9748985801217038\n",
      "Train F1: 0.973910840932117\n",
      "          \n",
      "Val Accuracy: 0.9182692307692307\n",
      "Val Precision: 0.900709219858156\n",
      "Val Recall: 0.9769230769230769\n",
      "Val F1: 0.9372693726937263\n",
      "          \n",
      "Training Loss: 0.1077\n",
      "Validation Loss: 0.2329\n",
      "EarlyStopping counter: 10 out of 10\n",
      "Early stopping\n"
     ]
    },
    {
     "data": {
      "text/plain": [
       "<All keys matched successfully>"
      ]
     },
     "execution_count": 33,
     "metadata": {
      "tags": []
     },
     "output_type": "execute_result"
    }
   ],
   "source": [
    "early_stopping = EarlyStopping(patience=10, verbose=True)\n",
    "\n",
    "for epoch in range(epochs):\n",
    "    train_accuracy = Accuracy()\n",
    "    train_precision = Precision()\n",
    "    train_recall = Recall()\n",
    "    train_f1 = Fbeta(beta=1.0, average=False, precision=train_precision, recall=train_recall)\n",
    "    val_accuracy = Accuracy()\n",
    "    val_precision = Precision()\n",
    "    val_recall = Recall()\n",
    "    val_f1 = Fbeta(beta=1.0, average=False, precision=val_precision, recall=val_recall)\n",
    "    train_loss = 0.00\n",
    "    val_loss = 0.00\n",
    "    print(f'Epoch {epoch+1}')\n",
    "    \n",
    "    # Training loop\n",
    "    for idx, (inputs, labels) in enumerate(Bar(train_loader)):\n",
    "        model.train()\n",
    "        inputs, labels = inputs.to(device), labels.to(device)\n",
    "        optimizer.zero_grad() \n",
    "        outputs = model(inputs) \n",
    "        loss = criterion(outputs, labels.view([labels.shape[0], -1]).float())\n",
    "        loss.backward() \n",
    "        optimizer.step() \n",
    "        train_loss += loss.item()\n",
    "        train_accuracy.update((torch.round(torch.sigmoid(outputs)), labels))\n",
    "        train_precision.update((torch.round(torch.sigmoid(outputs)), labels))\n",
    "        train_recall.update((torch.round(torch.sigmoid(outputs)), labels))\n",
    "    print(f\"Train Accuracy: {train_accuracy.compute()}\")\n",
    "    print(f\"Train Precision: {train_precision.compute()}\")\n",
    "    print(f\"Train Recall: {train_recall.compute()}\")\n",
    "    print(f\"\"\"Train F1: {train_f1.compute()}\n",
    "          \"\"\")\n",
    "    train_loss /= len(train_loader)\n",
    "    train_loss_formated = \"{:.4f}\".format(train_loss)\n",
    "\n",
    "    # Validation loop\n",
    "    with torch.no_grad():\n",
    "        for inputs, labels in val_loader:\n",
    "            model.eval()\n",
    "            inputs, labels = inputs.to(device), labels.to(device)\n",
    "            outputs = model(inputs)\n",
    "            loss = criterion(outputs, labels.view([labels.shape[0], -1]).float())\n",
    "            val_loss += loss.item()\n",
    "            val_accuracy.update((torch.round(torch.sigmoid(outputs)), labels))\n",
    "            val_precision.update((torch.round(torch.sigmoid(outputs)), labels))\n",
    "            val_recall.update((torch.round(torch.sigmoid(outputs)), labels))\n",
    "    print(f\"Val Accuracy: {val_accuracy.compute()}\")\n",
    "    print(f\"Val Precision: {val_precision.compute()}\")\n",
    "    print(f\"Val Recall: {val_recall.compute()}\")\n",
    "    print(f\"\"\"Val F1: {val_f1.compute()}\n",
    "          \"\"\")\n",
    "    val_loss /= len(val_loader)\n",
    "    val_loss_formated = \"{:.4f}\".format(val_loss)\n",
    "    print(f'Training Loss: {train_loss_formated}')\n",
    "    print(f'Validation Loss: {val_loss_formated}')\n",
    "    \n",
    "    # TensorBoard writer \n",
    "    writer.add_scalar('Loss/train', train_loss, epoch+1)\n",
    "    writer.add_scalar('Loss/val', val_loss, epoch+1)\n",
    "    writer.add_scalar('Accuracy/train', train_accuracy.compute(), epoch+1)\n",
    "    writer.add_scalar('Accuracy/val', val_accuracy.compute(), epoch+1)\n",
    "    \n",
    "    # Early stopping\n",
    "    early_stopping(val_loss, model)       \n",
    "    if early_stopping.early_stop:\n",
    "        print(\"Early stopping\")\n",
    "        break\n",
    "        \n",
    "# load the last checkpoint with the best model\n",
    "model.load_state_dict(torch.load('/content/drive/MyDrive/lungmodel18.pt'))    "
   ]
  },
  {
   "cell_type": "markdown",
   "metadata": {
    "id": "h0vQnCFPDNUH"
   },
   "source": [
    "##\n",
    "## __5. Results.__\n",
    "### Model stopped training after 19 epochs with Early stopping point at 9 epochs. I first tried training ResNet50 and got a bit worse results since model was too deep for this dataset and hard to regularize because of that. Then I trained ResNet18 a bunch of times with different hyperparameters and this combination got me the best results (even though there were some simmilar ones).\n",
    "####\n",
    "#### Result metrics are:\n",
    "#### Train Accuracy: 0.95308\n",
    "#### Train Precision: 0.96666\n",
    "#### Train Recall: 0.97058\n",
    "#### Train F1: 0.96862\n",
    "####\n",
    "#### Val Accuracy: 0.92948\n",
    "#### Val Precision: 0.91586\n",
    "#### Val Recall: 0.97692\n",
    "#### Val F1: 0.94540\n",
    "####\n",
    "#### Training Loss: 0.1282\n",
    "#### Validation Loss: 0.1981\n",
    "####\n",
    "### Now we will look at confusion matrix and classification report with Precision, Recall, F1 score."
   ]
  },
  {
   "cell_type": "code",
   "execution_count": 34,
   "metadata": {
    "colab": {
     "base_uri": "https://localhost:8080/",
     "height": 432
    },
    "id": "wMUEUEm_ceSi",
    "outputId": "a4f45f65-7758-4e2d-b540-eb7e58275c8f"
   },
   "outputs": [
    {
     "name": "stdout",
     "output_type": "stream",
     "text": [
      "              precision    recall  f1-score   support\n",
      "\n",
      "     Healthy       0.96      0.85      0.90       234\n",
      "   Pneumonia       0.92      0.98      0.95       390\n",
      "\n",
      "    accuracy                           0.93       624\n",
      "   macro avg       0.94      0.91      0.92       624\n",
      "weighted avg       0.93      0.93      0.93       624\n",
      "\n"
     ]
    },
    {
     "data": {
      "image/png": "[encoded data removed]",
      "text/plain": [
       "<Figure size 432x288 with 2 Axes>"
      ]
     },
     "metadata": {
      "needs_background": "light",
      "tags": []
     },
     "output_type": "display_data"
    }
   ],
   "source": [
    "predlist = torch.zeros(0,dtype=torch.long, device='cpu')\n",
    "lbllist = torch.zeros(0,dtype=torch.long, device='cpu')\n",
    "predlistauc = torch.zeros(0,dtype=torch.long, device='cpu')\n",
    "\n",
    "with torch.no_grad():\n",
    "    for i, (inputs, classes) in enumerate(val_loader):\n",
    "        model.eval()\n",
    "        inputs = inputs.to(device)\n",
    "        classes = classes.to(device)\n",
    "        outputs = model(inputs)\n",
    "        preds = torch.round(torch.sigmoid(outputs))\n",
    "\n",
    "        # Append batch prediction results\n",
    "        predlist = torch.cat([predlist,preds.view(-1).cpu()])\n",
    "        lbllist = torch.cat([lbllist,classes.view(-1).cpu()])\n",
    "        predlistauc = torch.cat([predlistauc,torch.sigmoid(outputs).view(-1).cpu()])\n",
    "predlist = predlist.numpy()\n",
    "lbllist = lbllist.numpy()\n",
    "predlistauc = predlistauc.numpy()\n",
    "\n",
    "# Confusion matrix\n",
    "tn, fp, fn, tp = confusion_matrix(lbllist, predlist).ravel()\n",
    "target_names = ['Healthy','Pneumonia']   \n",
    "ConfusionMatrixDisplay(np.concatenate((np.array([[tn, fp]]),np.array([[fn, tp]])),\n",
    "                                      axis=0), display_labels=target_names).plot(values_format=\"d\")                   \n",
    "print(classification_report(lbllist, predlist, target_names=target_names))"
   ]
  },
  {
   "cell_type": "markdown",
   "metadata": {
    "id": "9ndznCTHDNUI"
   },
   "source": [
    "### We were able to achieve 98% True positive rate with 15% False positive rate and 95% F1 score for pneumonia detection with threshold of 0.5!\n",
    "### Lets look at ROC curve with AUC and other possible thresholds."
   ]
  },
  {
   "cell_type": "code",
   "execution_count": 35,
   "metadata": {
    "colab": {
     "base_uri": "https://localhost:8080/",
     "height": 517
    },
    "id": "E8vAXvyXEhKp",
    "outputId": "c601c0bd-d428-434b-eb38-15b075759191"
   },
   "outputs": [
    {
     "data": {
      "text/html": [
       "<html>\n",
       "<head><meta charset=\"utf-8\" /></head>\n",
       "<body>\n",
       "    <div>\n",
       "            <script src=\"https://cdnjs.cloudflare.com/ajax/libs/mathjax/2.7.5/MathJax.js?config=TeX-AMS-MML_SVG\"></script><script type=\"text/javascript\">if (window.MathJax) {MathJax.Hub.Config({SVG: {font: \"STIX-Web\"}});}</script>\n",
       "                <script type=\"text/javascript\">window.PlotlyConfig = {MathJaxConfig: 'local'};</script>\n",
       "        <script src=\"https://cdn.plot.ly/plotly-latest.min.js\"></script>    \n",
       "            <div id=\"7788214e-c0c3-45ef-8049-d1694e749def\" class=\"plotly-graph-div\" style=\"height:500px; width:700px;\"></div>\n",
       "            <script type=\"text/javascript\">\n",
       "                \n",
       "                    window.PLOTLYENV=window.PLOTLYENV || {};\n",
       "                    \n",
       "                if (document.getElementById(\"7788214e-c0c3-45ef-8049-d1694e749def\")) {\n",
       "                    Plotly.newPlot(\n",
       "                        '7788214e-c0c3-45ef-8049-d1694e749def',\n",
       "                        [{\"hoverlabel\": {\"namelength\": 0}, \"hovertemplate\": \"False Positive Rate=%{x}<br>True Positive Rate=%{y}\", \"legendgroup\": \"\", \"line\": {\"color\": \"#636efa\"}, \"mode\": \"lines\", \"name\": \"\", \"orientation\": \"v\", \"showlegend\": false, \"stackgroup\": \"1\", \"type\": \"scatter\", \"x\": [0.0, 0.0, 0.0, 0.0, 0.0, 0.0, 0.0, 0.004273504273504274, 0.004273504273504274, 0.008547008547008548, 0.008547008547008548, 0.01282051282051282, 0.01282051282051282, 0.01282051282051282, 0.01282051282051282, 0.017094017094017096, 0.017094017094017096, 0.021367521367521368, 0.021367521367521368, 0.02564102564102564, 0.02564102564102564, 0.03418803418803419, 0.03418803418803419, 0.038461538461538464, 0.038461538461538464, 0.042735042735042736, 0.042735042735042736, 0.05555555555555555, 0.05555555555555555, 0.05982905982905983, 0.05982905982905983, 0.06837606837606838, 0.06837606837606838, 0.07264957264957266, 0.07264957264957266, 0.0811965811965812, 0.0811965811965812, 0.08547008547008547, 0.08547008547008547, 0.10683760683760683, 0.10683760683760683, 0.11538461538461539, 0.11538461538461539, 0.11965811965811966, 0.11965811965811966, 0.1282051282051282, 0.1282051282051282, 0.13247863247863248, 0.13247863247863248, 0.13675213675213677, 0.13675213675213677, 0.14957264957264957, 0.14957264957264957, 0.1752136752136752, 0.1752136752136752, 0.1794871794871795, 0.1794871794871795, 0.18376068376068377, 0.18376068376068377, 0.23931623931623933, 0.23931623931623933, 0.2905982905982906, 0.2905982905982906, 0.44017094017094016, 0.44871794871794873, 0.44871794871794873, 0.9444444444444444, 0.9444444444444444, 1.0], \"xaxis\": \"x\", \"y\": [0.0, 0.002564102564102564, 0.007692307692307693, 0.01282051282051282, 0.020512820512820513, 0.02564102564102564, 0.0641025641025641, 0.0641025641025641, 0.5871794871794872, 0.5871794871794872, 0.617948717948718, 0.617948717948718, 0.676923076923077, 0.6820512820512821, 0.7076923076923077, 0.7076923076923077, 0.7589743589743589, 0.7589743589743589, 0.7897435897435897, 0.7897435897435897, 0.8282051282051283, 0.8282051282051283, 0.8487179487179487, 0.8487179487179487, 0.8743589743589744, 0.8743589743589744, 0.8974358974358975, 0.8974358974358975, 0.9051282051282051, 0.9051282051282051, 0.9102564102564102, 0.9102564102564102, 0.9179487179487179, 0.9179487179487179, 0.9256410256410257, 0.9256410256410257, 0.9358974358974359, 0.9358974358974359, 0.9384615384615385, 0.9384615384615385, 0.9435897435897436, 0.9435897435897436, 0.9487179487179487, 0.9487179487179487, 0.9564102564102565, 0.9564102564102565, 0.9615384615384616, 0.9615384615384616, 0.9717948717948718, 0.9717948717948718, 0.9769230769230769, 0.9769230769230769, 0.982051282051282, 0.982051282051282, 0.9846153846153847, 0.9846153846153847, 0.9871794871794872, 0.9871794871794872, 0.9897435897435898, 0.9897435897435898, 0.9923076923076923, 0.9923076923076923, 0.9948717948717949, 0.9948717948717949, 0.9948717948717949, 0.9974358974358974, 0.9974358974358974, 1.0, 1.0], \"yaxis\": \"y\"}, {\"name\": \"ROC curve\", \"text\": [\"['True Positive Rate=0.00000, False Positive Rate=0.00000, Threshold=1.99950']\", \"['True Positive Rate=0.00256, False Positive Rate=0.00000, Threshold=0.99950']\", \"['True Positive Rate=0.00769, False Positive Rate=0.00000, Threshold=0.99946']\", \"['True Positive Rate=0.01282, False Positive Rate=0.00000, Threshold=0.99945']\", \"['True Positive Rate=0.02051, False Positive Rate=0.00000, Threshold=0.99941']\", \"['True Positive Rate=0.02564, False Positive Rate=0.00000, Threshold=0.99941']\", \"['True Positive Rate=0.06410, False Positive Rate=0.00000, Threshold=0.99926']\", \"['True Positive Rate=0.06410, False Positive Rate=0.00427, Threshold=0.99925']\", \"['True Positive Rate=0.58718, False Positive Rate=0.00427, Threshold=0.98981']\", \"['True Positive Rate=0.58718, False Positive Rate=0.00855, Threshold=0.98968']\", \"['True Positive Rate=0.61795, False Positive Rate=0.00855, Threshold=0.98698']\", \"['True Positive Rate=0.61795, False Positive Rate=0.01282, Threshold=0.98685']\", \"['True Positive Rate=0.67692, False Positive Rate=0.01282, Threshold=0.97796']\", \"['True Positive Rate=0.68205, False Positive Rate=0.01282, Threshold=0.97795']\", \"['True Positive Rate=0.70769, False Positive Rate=0.01282, Threshold=0.97193']\", \"['True Positive Rate=0.70769, False Positive Rate=0.01709, Threshold=0.97150']\", \"['True Positive Rate=0.75897, False Positive Rate=0.01709, Threshold=0.96004']\", \"['True Positive Rate=0.75897, False Positive Rate=0.02137, Threshold=0.95985']\", \"['True Positive Rate=0.78974, False Positive Rate=0.02137, Threshold=0.95399']\", \"['True Positive Rate=0.78974, False Positive Rate=0.02564, Threshold=0.95339']\", \"['True Positive Rate=0.82821, False Positive Rate=0.02564, Threshold=0.93773']\", \"['True Positive Rate=0.82821, False Positive Rate=0.03419, Threshold=0.93439']\", \"['True Positive Rate=0.84872, False Positive Rate=0.03419, Threshold=0.92354']\", \"['True Positive Rate=0.84872, False Positive Rate=0.03846, Threshold=0.92144']\", \"['True Positive Rate=0.87436, False Positive Rate=0.03846, Threshold=0.88761']\", \"['True Positive Rate=0.87436, False Positive Rate=0.04274, Threshold=0.88535']\", \"['True Positive Rate=0.89744, False Positive Rate=0.04274, Threshold=0.86326']\", \"['True Positive Rate=0.89744, False Positive Rate=0.05556, Threshold=0.83632']\", \"['True Positive Rate=0.90513, False Positive Rate=0.05556, Threshold=0.81712']\", \"['True Positive Rate=0.90513, False Positive Rate=0.05983, Threshold=0.81618']\", \"['True Positive Rate=0.91026, False Positive Rate=0.05983, Threshold=0.80564']\", \"['True Positive Rate=0.91026, False Positive Rate=0.06838, Threshold=0.78565']\", \"['True Positive Rate=0.91795, False Positive Rate=0.06838, Threshold=0.76918']\", \"['True Positive Rate=0.91795, False Positive Rate=0.07265, Threshold=0.76478']\", \"['True Positive Rate=0.92564, False Positive Rate=0.07265, Threshold=0.74855']\", \"['True Positive Rate=0.92564, False Positive Rate=0.08120, Threshold=0.73950']\", \"['True Positive Rate=0.93590, False Positive Rate=0.08120, Threshold=0.70978']\", \"['True Positive Rate=0.93590, False Positive Rate=0.08547, Threshold=0.69676']\", \"['True Positive Rate=0.93846, False Positive Rate=0.08547, Threshold=0.69587']\", \"['True Positive Rate=0.93846, False Positive Rate=0.10684, Threshold=0.66391']\", \"['True Positive Rate=0.94359, False Positive Rate=0.10684, Threshold=0.64986']\", \"['True Positive Rate=0.94359, False Positive Rate=0.11538, Threshold=0.63475']\", \"['True Positive Rate=0.94872, False Positive Rate=0.11538, Threshold=0.61121']\", \"['True Positive Rate=0.94872, False Positive Rate=0.11966, Threshold=0.61119']\", \"['True Positive Rate=0.95641, False Positive Rate=0.11966, Threshold=0.60453']\", \"['True Positive Rate=0.95641, False Positive Rate=0.12821, Threshold=0.57421']\", \"['True Positive Rate=0.96154, False Positive Rate=0.12821, Threshold=0.56090']\", \"['True Positive Rate=0.96154, False Positive Rate=0.13248, Threshold=0.55795']\", \"['True Positive Rate=0.97179, False Positive Rate=0.13248, Threshold=0.53202']\", \"['True Positive Rate=0.97179, False Positive Rate=0.13675, Threshold=0.53012']\", \"['True Positive Rate=0.97692, False Positive Rate=0.13675, Threshold=0.52091']\", \"['True Positive Rate=0.97692, False Positive Rate=0.14957, Threshold=0.50778']\", \"['True Positive Rate=0.98205, False Positive Rate=0.14957, Threshold=0.49724']\", \"['True Positive Rate=0.98205, False Positive Rate=0.17521, Threshold=0.42987']\", \"['True Positive Rate=0.98462, False Positive Rate=0.17521, Threshold=0.42321']\", \"['True Positive Rate=0.98462, False Positive Rate=0.17949, Threshold=0.41965']\", \"['True Positive Rate=0.98718, False Positive Rate=0.17949, Threshold=0.40906']\", \"['True Positive Rate=0.98718, False Positive Rate=0.18376, Threshold=0.40678']\", \"['True Positive Rate=0.98974, False Positive Rate=0.18376, Threshold=0.40624']\", \"['True Positive Rate=0.98974, False Positive Rate=0.23932, Threshold=0.30917']\", \"['True Positive Rate=0.99231, False Positive Rate=0.23932, Threshold=0.29689']\", \"['True Positive Rate=0.99231, False Positive Rate=0.29060, Threshold=0.22727']\", \"['True Positive Rate=0.99487, False Positive Rate=0.29060, Threshold=0.22602']\", \"['True Positive Rate=0.99487, False Positive Rate=0.44017, Threshold=0.06637']\", \"['True Positive Rate=0.99487, False Positive Rate=0.44872, Threshold=0.06593']\", \"['True Positive Rate=0.99744, False Positive Rate=0.44872, Threshold=0.06481']\", \"['True Positive Rate=0.99744, False Positive Rate=0.94444, Threshold=0.00110']\", \"['True Positive Rate=1.00000, False Positive Rate=0.94444, Threshold=0.00104']\", \"['True Positive Rate=1.00000, False Positive Rate=1.00000, Threshold=0.00006']\"], \"textfont\": {\"color\": \"LightSeaGreen\", \"family\": \"sans serif\", \"size\": 18}, \"textposition\": \"top center\", \"type\": \"scatter\", \"x\": [0.0, 0.0, 0.0, 0.0, 0.0, 0.0, 0.0, 0.004273504273504274, 0.004273504273504274, 0.008547008547008548, 0.008547008547008548, 0.01282051282051282, 0.01282051282051282, 0.01282051282051282, 0.01282051282051282, 0.017094017094017096, 0.017094017094017096, 0.021367521367521368, 0.021367521367521368, 0.02564102564102564, 0.02564102564102564, 0.03418803418803419, 0.03418803418803419, 0.038461538461538464, 0.038461538461538464, 0.042735042735042736, 0.042735042735042736, 0.05555555555555555, 0.05555555555555555, 0.05982905982905983, 0.05982905982905983, 0.06837606837606838, 0.06837606837606838, 0.07264957264957266, 0.07264957264957266, 0.0811965811965812, 0.0811965811965812, 0.08547008547008547, 0.08547008547008547, 0.10683760683760683, 0.10683760683760683, 0.11538461538461539, 0.11538461538461539, 0.11965811965811966, 0.11965811965811966, 0.1282051282051282, 0.1282051282051282, 0.13247863247863248, 0.13247863247863248, 0.13675213675213677, 0.13675213675213677, 0.14957264957264957, 0.14957264957264957, 0.1752136752136752, 0.1752136752136752, 0.1794871794871795, 0.1794871794871795, 0.18376068376068377, 0.18376068376068377, 0.23931623931623933, 0.23931623931623933, 0.2905982905982906, 0.2905982905982906, 0.44017094017094016, 0.44871794871794873, 0.44871794871794873, 0.9444444444444444, 0.9444444444444444, 1.0], \"y\": [0.0, 0.002564102564102564, 0.007692307692307693, 0.01282051282051282, 0.020512820512820513, 0.02564102564102564, 0.0641025641025641, 0.0641025641025641, 0.5871794871794872, 0.5871794871794872, 0.617948717948718, 0.617948717948718, 0.676923076923077, 0.6820512820512821, 0.7076923076923077, 0.7076923076923077, 0.7589743589743589, 0.7589743589743589, 0.7897435897435897, 0.7897435897435897, 0.8282051282051283, 0.8282051282051283, 0.8487179487179487, 0.8487179487179487, 0.8743589743589744, 0.8743589743589744, 0.8974358974358975, 0.8974358974358975, 0.9051282051282051, 0.9051282051282051, 0.9102564102564102, 0.9102564102564102, 0.9179487179487179, 0.9179487179487179, 0.9256410256410257, 0.9256410256410257, 0.9358974358974359, 0.9358974358974359, 0.9384615384615385, 0.9384615384615385, 0.9435897435897436, 0.9435897435897436, 0.9487179487179487, 0.9487179487179487, 0.9564102564102565, 0.9564102564102565, 0.9615384615384616, 0.9615384615384616, 0.9717948717948718, 0.9717948717948718, 0.9769230769230769, 0.9769230769230769, 0.982051282051282, 0.982051282051282, 0.9846153846153847, 0.9846153846153847, 0.9871794871794872, 0.9871794871794872, 0.9897435897435898, 0.9897435897435898, 0.9923076923076923, 0.9923076923076923, 0.9948717948717949, 0.9948717948717949, 0.9948717948717949, 0.9974358974358974, 0.9974358974358974, 1.0, 1.0]}],\n",
       "                        {\"height\": 500, \"legend\": {\"tracegroupgap\": 0}, \"shapes\": [{\"line\": {\"dash\": \"dash\"}, \"type\": \"line\", \"x0\": 0, \"x1\": 1, \"y0\": 0, \"y1\": 1}], \"template\": {\"data\": {\"bar\": [{\"error_x\": {\"color\": \"#2a3f5f\"}, \"error_y\": {\"color\": \"#2a3f5f\"}, \"marker\": {\"line\": {\"color\": \"#E5ECF6\", \"width\": 0.5}}, \"type\": \"bar\"}], \"barpolar\": [{\"marker\": {\"line\": {\"color\": \"#E5ECF6\", \"width\": 0.5}}, \"type\": \"barpolar\"}], \"carpet\": [{\"aaxis\": {\"endlinecolor\": \"#2a3f5f\", \"gridcolor\": \"white\", \"linecolor\": \"white\", \"minorgridcolor\": \"white\", \"startlinecolor\": \"#2a3f5f\"}, \"baxis\": {\"endlinecolor\": \"#2a3f5f\", \"gridcolor\": \"white\", \"linecolor\": \"white\", \"minorgridcolor\": \"white\", \"startlinecolor\": \"#2a3f5f\"}, \"type\": \"carpet\"}], \"choropleth\": [{\"colorbar\": {\"outlinewidth\": 0, \"ticks\": \"\"}, \"type\": \"choropleth\"}], \"contour\": [{\"colorbar\": {\"outlinewidth\": 0, \"ticks\": \"\"}, \"colorscale\": [[0.0, \"#0d0887\"], [0.1111111111111111, \"#46039f\"], [0.2222222222222222, \"#7201a8\"], [0.3333333333333333, \"#9c179e\"], [0.4444444444444444, \"#bd3786\"], [0.5555555555555556, \"#d8576b\"], [0.6666666666666666, \"#ed7953\"], [0.7777777777777778, \"#fb9f3a\"], [0.8888888888888888, \"#fdca26\"], [1.0, \"#f0f921\"]], \"type\": \"contour\"}], \"contourcarpet\": [{\"colorbar\": {\"outlinewidth\": 0, \"ticks\": \"\"}, \"type\": \"contourcarpet\"}], \"heatmap\": [{\"colorbar\": {\"outlinewidth\": 0, \"ticks\": \"\"}, \"colorscale\": [[0.0, \"#0d0887\"], [0.1111111111111111, \"#46039f\"], [0.2222222222222222, \"#7201a8\"], [0.3333333333333333, \"#9c179e\"], [0.4444444444444444, \"#bd3786\"], [0.5555555555555556, \"#d8576b\"], [0.6666666666666666, \"#ed7953\"], [0.7777777777777778, \"#fb9f3a\"], [0.8888888888888888, \"#fdca26\"], [1.0, \"#f0f921\"]], \"type\": \"heatmap\"}], \"heatmapgl\": [{\"colorbar\": {\"outlinewidth\": 0, \"ticks\": \"\"}, \"colorscale\": [[0.0, \"#0d0887\"], [0.1111111111111111, \"#46039f\"], [0.2222222222222222, \"#7201a8\"], [0.3333333333333333, \"#9c179e\"], [0.4444444444444444, \"#bd3786\"], [0.5555555555555556, \"#d8576b\"], [0.6666666666666666, \"#ed7953\"], [0.7777777777777778, \"#fb9f3a\"], [0.8888888888888888, \"#fdca26\"], [1.0, \"#f0f921\"]], \"type\": \"heatmapgl\"}], \"histogram\": [{\"marker\": {\"colorbar\": {\"outlinewidth\": 0, \"ticks\": \"\"}}, \"type\": \"histogram\"}], \"histogram2d\": [{\"colorbar\": {\"outlinewidth\": 0, \"ticks\": \"\"}, \"colorscale\": [[0.0, \"#0d0887\"], [0.1111111111111111, \"#46039f\"], [0.2222222222222222, \"#7201a8\"], [0.3333333333333333, \"#9c179e\"], [0.4444444444444444, \"#bd3786\"], [0.5555555555555556, \"#d8576b\"], [0.6666666666666666, \"#ed7953\"], [0.7777777777777778, \"#fb9f3a\"], [0.8888888888888888, \"#fdca26\"], [1.0, \"#f0f921\"]], \"type\": \"histogram2d\"}], \"histogram2dcontour\": [{\"colorbar\": {\"outlinewidth\": 0, \"ticks\": \"\"}, \"colorscale\": [[0.0, \"#0d0887\"], [0.1111111111111111, \"#46039f\"], [0.2222222222222222, \"#7201a8\"], [0.3333333333333333, \"#9c179e\"], [0.4444444444444444, \"#bd3786\"], [0.5555555555555556, \"#d8576b\"], [0.6666666666666666, \"#ed7953\"], [0.7777777777777778, \"#fb9f3a\"], [0.8888888888888888, \"#fdca26\"], [1.0, \"#f0f921\"]], \"type\": \"histogram2dcontour\"}], \"mesh3d\": [{\"colorbar\": {\"outlinewidth\": 0, \"ticks\": \"\"}, \"type\": \"mesh3d\"}], \"parcoords\": [{\"line\": {\"colorbar\": {\"outlinewidth\": 0, \"ticks\": \"\"}}, \"type\": \"parcoords\"}], \"pie\": [{\"automargin\": true, \"type\": \"pie\"}], \"scatter\": [{\"marker\": {\"colorbar\": {\"outlinewidth\": 0, \"ticks\": \"\"}}, \"type\": \"scatter\"}], \"scatter3d\": [{\"line\": {\"colorbar\": {\"outlinewidth\": 0, \"ticks\": \"\"}}, \"marker\": {\"colorbar\": {\"outlinewidth\": 0, \"ticks\": \"\"}}, \"type\": \"scatter3d\"}], \"scattercarpet\": [{\"marker\": {\"colorbar\": {\"outlinewidth\": 0, \"ticks\": \"\"}}, \"type\": \"scattercarpet\"}], \"scattergeo\": [{\"marker\": {\"colorbar\": {\"outlinewidth\": 0, \"ticks\": \"\"}}, \"type\": \"scattergeo\"}], \"scattergl\": [{\"marker\": {\"colorbar\": {\"outlinewidth\": 0, \"ticks\": \"\"}}, \"type\": \"scattergl\"}], \"scattermapbox\": [{\"marker\": {\"colorbar\": {\"outlinewidth\": 0, \"ticks\": \"\"}}, \"type\": \"scattermapbox\"}], \"scatterpolar\": [{\"marker\": {\"colorbar\": {\"outlinewidth\": 0, \"ticks\": \"\"}}, \"type\": \"scatterpolar\"}], \"scatterpolargl\": [{\"marker\": {\"colorbar\": {\"outlinewidth\": 0, \"ticks\": \"\"}}, \"type\": \"scatterpolargl\"}], \"scatterternary\": [{\"marker\": {\"colorbar\": {\"outlinewidth\": 0, \"ticks\": \"\"}}, \"type\": \"scatterternary\"}], \"surface\": [{\"colorbar\": {\"outlinewidth\": 0, \"ticks\": \"\"}, \"colorscale\": [[0.0, \"#0d0887\"], [0.1111111111111111, \"#46039f\"], [0.2222222222222222, \"#7201a8\"], [0.3333333333333333, \"#9c179e\"], [0.4444444444444444, \"#bd3786\"], [0.5555555555555556, \"#d8576b\"], [0.6666666666666666, \"#ed7953\"], [0.7777777777777778, \"#fb9f3a\"], [0.8888888888888888, \"#fdca26\"], [1.0, \"#f0f921\"]], \"type\": \"surface\"}], \"table\": [{\"cells\": {\"fill\": {\"color\": \"#EBF0F8\"}, \"line\": {\"color\": \"white\"}}, \"header\": {\"fill\": {\"color\": \"#C8D4E3\"}, \"line\": {\"color\": \"white\"}}, \"type\": \"table\"}]}, \"layout\": {\"annotationdefaults\": {\"arrowcolor\": \"#2a3f5f\", \"arrowhead\": 0, \"arrowwidth\": 1}, \"coloraxis\": {\"colorbar\": {\"outlinewidth\": 0, \"ticks\": \"\"}}, \"colorscale\": {\"diverging\": [[0, \"#8e0152\"], [0.1, \"#c51b7d\"], [0.2, \"#de77ae\"], [0.3, \"#f1b6da\"], [0.4, \"#fde0ef\"], [0.5, \"#f7f7f7\"], [0.6, \"#e6f5d0\"], [0.7, \"#b8e186\"], [0.8, \"#7fbc41\"], [0.9, \"#4d9221\"], [1, \"#276419\"]], \"sequential\": [[0.0, \"#0d0887\"], [0.1111111111111111, \"#46039f\"], [0.2222222222222222, \"#7201a8\"], [0.3333333333333333, \"#9c179e\"], [0.4444444444444444, \"#bd3786\"], [0.5555555555555556, \"#d8576b\"], [0.6666666666666666, \"#ed7953\"], [0.7777777777777778, \"#fb9f3a\"], [0.8888888888888888, \"#fdca26\"], [1.0, \"#f0f921\"]], \"sequentialminus\": [[0.0, \"#0d0887\"], [0.1111111111111111, \"#46039f\"], [0.2222222222222222, \"#7201a8\"], [0.3333333333333333, \"#9c179e\"], [0.4444444444444444, \"#bd3786\"], [0.5555555555555556, \"#d8576b\"], [0.6666666666666666, \"#ed7953\"], [0.7777777777777778, \"#fb9f3a\"], [0.8888888888888888, \"#fdca26\"], [1.0, \"#f0f921\"]]}, \"colorway\": [\"#636efa\", \"#EF553B\", \"#00cc96\", \"#ab63fa\", \"#FFA15A\", \"#19d3f3\", \"#FF6692\", \"#B6E880\", \"#FF97FF\", \"#FECB52\"], \"font\": {\"color\": \"#2a3f5f\"}, \"geo\": {\"bgcolor\": \"white\", \"lakecolor\": \"white\", \"landcolor\": \"#E5ECF6\", \"showlakes\": true, \"showland\": true, \"subunitcolor\": \"white\"}, \"hoverlabel\": {\"align\": \"left\"}, \"hovermode\": \"closest\", \"mapbox\": {\"style\": \"light\"}, \"paper_bgcolor\": \"white\", \"plot_bgcolor\": \"#E5ECF6\", \"polar\": {\"angularaxis\": {\"gridcolor\": \"white\", \"linecolor\": \"white\", \"ticks\": \"\"}, \"bgcolor\": \"#E5ECF6\", \"radialaxis\": {\"gridcolor\": \"white\", \"linecolor\": \"white\", \"ticks\": \"\"}}, \"scene\": {\"xaxis\": {\"backgroundcolor\": \"#E5ECF6\", \"gridcolor\": \"white\", \"gridwidth\": 2, \"linecolor\": \"white\", \"showbackground\": true, \"ticks\": \"\", \"zerolinecolor\": \"white\"}, \"yaxis\": {\"backgroundcolor\": \"#E5ECF6\", \"gridcolor\": \"white\", \"gridwidth\": 2, \"linecolor\": \"white\", \"showbackground\": true, \"ticks\": \"\", \"zerolinecolor\": \"white\"}, \"zaxis\": {\"backgroundcolor\": \"#E5ECF6\", \"gridcolor\": \"white\", \"gridwidth\": 2, \"linecolor\": \"white\", \"showbackground\": true, \"ticks\": \"\", \"zerolinecolor\": \"white\"}}, \"shapedefaults\": {\"line\": {\"color\": \"#2a3f5f\"}}, \"ternary\": {\"aaxis\": {\"gridcolor\": \"white\", \"linecolor\": \"white\", \"ticks\": \"\"}, \"baxis\": {\"gridcolor\": \"white\", \"linecolor\": \"white\", \"ticks\": \"\"}, \"bgcolor\": \"#E5ECF6\", \"caxis\": {\"gridcolor\": \"white\", \"linecolor\": \"white\", \"ticks\": \"\"}}, \"title\": {\"x\": 0.05}, \"xaxis\": {\"automargin\": true, \"gridcolor\": \"white\", \"linecolor\": \"white\", \"ticks\": \"\", \"title\": {\"standoff\": 15}, \"zerolinecolor\": \"white\", \"zerolinewidth\": 2}, \"yaxis\": {\"automargin\": true, \"gridcolor\": \"white\", \"linecolor\": \"white\", \"ticks\": \"\", \"title\": {\"standoff\": 15}, \"zerolinecolor\": \"white\", \"zerolinewidth\": 2}}}, \"title\": {\"text\": \"ROC Curve (AUC=0.9764)\"}, \"width\": 700, \"xaxis\": {\"anchor\": \"y\", \"constrain\": \"domain\", \"domain\": [0.0, 1.0], \"title\": {\"text\": \"False Positive Rate\"}}, \"yaxis\": {\"anchor\": \"x\", \"domain\": [0.0, 1.0], \"scaleanchor\": \"x\", \"scaleratio\": 1, \"title\": {\"text\": \"True Positive Rate\"}}},\n",
       "                        {\"responsive\": true}\n",
       "                    ).then(function(){\n",
       "                            \n",
       "var gd = document.getElementById('7788214e-c0c3-45ef-8049-d1694e749def');\n",
       "var x = new MutationObserver(function (mutations, observer) {{\n",
       "        var display = window.getComputedStyle(gd).display;\n",
       "        if (!display || display === 'none') {{\n",
       "            console.log([gd, 'removed!']);\n",
       "            Plotly.purge(gd);\n",
       "            observer.disconnect();\n",
       "        }}\n",
       "}});\n",
       "\n",
       "// Listen for the removal of the full notebook cells\n",
       "var notebookContainer = gd.closest('#notebook-container');\n",
       "if (notebookContainer) {{\n",
       "    x.observe(notebookContainer, {childList: true});\n",
       "}}\n",
       "\n",
       "// Listen for the clearing of the current output cell\n",
       "var outputEl = gd.closest('.output');\n",
       "if (outputEl) {{\n",
       "    x.observe(outputEl, {childList: true});\n",
       "}}\n",
       "\n",
       "                        })\n",
       "                };\n",
       "                \n",
       "            </script>\n",
       "        </div>\n",
       "</body>\n",
       "</html>"
      ]
     },
     "metadata": {
      "tags": []
     },
     "output_type": "display_data"
    }
   ],
   "source": [
    "fpr, tpr, thresholds = roc_curve(lbllist, predlistauc)\n",
    "fpr_text = [\"{:.5f}\".format(every) for every in fpr]\n",
    "tpr_text = [\"{:.5f}\".format(every) for every in tpr]\n",
    "thresholds_text = [\"{:.5f}\".format(every) for every in thresholds]\n",
    "text = []\n",
    "for i,every in enumerate(thresholds_text):\n",
    "    text.append([f'True Positive Rate={tpr_text[i]}, False Positive Rate={fpr_text[i]}, Threshold={thresholds_text[i]}'])\n",
    "\n",
    "\n",
    "fig = go.Figure()\n",
    "\n",
    "fig = px.area(\n",
    "    x=fpr, y=tpr,\n",
    "    title=f'ROC Curve (AUC={auc(fpr, tpr):.4f})',\n",
    "    labels=dict(x='False Positive Rate', y='True Positive Rate'),\n",
    "    width=700, height=500\n",
    ")\n",
    "fig.add_shape(\n",
    "    type='line', line=dict(dash='dash'),\n",
    "    x0=0, x1=1, y0=0, y1=1\n",
    ")\n",
    "\n",
    "fig.add_trace(go.Scatter(\n",
    "    x=fpr,\n",
    "    y=tpr,\n",
    "    name='ROC curve',\n",
    "    text=text\n",
    "\n",
    ",\n",
    "    textposition=\"top center\",\n",
    "    textfont=dict(\n",
    "        family=\"sans serif\",\n",
    "        size=18,\n",
    "        color=\"LightSeaGreen\"\n",
    "    )\n",
    "))\n",
    "\n",
    "fig.update_yaxes(scaleanchor=\"x\", scaleratio=1)\n",
    "fig.update_xaxes(constrain='domain')\n",
    "fig.show()"
   ]
  },
  {
   "attachments": {
    "85ec1f55-8de9-4ffc-aca8-d515101945b5.png": {
     "image/png": "[encoded data removed]"
    }
   },
   "cell_type": "markdown",
   "metadata": {
    "id": "j_yh1oN6Sboe"
   },
   "source": [
    "![Screenshot_3.png](attachment:85ec1f55-8de9-4ffc-aca8-d515101945b5.png)"
   ]
  },
  {
   "cell_type": "markdown",
   "metadata": {
    "id": "KpA4uH-NDNUJ"
   },
   "source": [
    "### AUC = 97.64, which is a pretty good result. ROC lets us choose different desicion boundary thresholds depending on how many False positives we can afford. But we can also calculate the best threshold as argmin(TPR-(1-FPR))."
   ]
  },
  {
   "cell_type": "code",
   "execution_count": 36,
   "metadata": {
    "colab": {
     "base_uri": "https://localhost:8080/"
    },
    "id": "SfzQNSDvB2E5",
    "outputId": "dec4757b-a801-4a12-dbfd-054cc9572a12"
   },
   "outputs": [
    {
     "name": "stdout",
     "output_type": "stream",
     "text": [
      "[0.7485548257827759]\n"
     ]
    }
   ],
   "source": [
    "# Find optimal probability threshold\n",
    "threshold = Find_Optimal_Cutoff(lbllist, predlistauc)\n",
    "print(threshold)"
   ]
  },
  {
   "cell_type": "markdown",
   "metadata": {
    "id": "FUnRTKCLSbvf"
   },
   "source": [
    "### And here our metrics with a new threshold."
   ]
  },
  {
   "cell_type": "code",
   "execution_count": 37,
   "metadata": {
    "colab": {
     "base_uri": "https://localhost:8080/",
     "height": 432
    },
    "id": "D6ApVuYfceQf",
    "outputId": "4d4f0802-1e3f-4904-8934-c2a8216faa2d"
   },
   "outputs": [
    {
     "name": "stdout",
     "output_type": "stream",
     "text": [
      "              precision    recall  f1-score   support\n",
      "\n",
      "     Healthy       0.88      0.93      0.90       234\n",
      "   Pneumonia       0.95      0.92      0.94       390\n",
      "\n",
      "    accuracy                           0.92       624\n",
      "   macro avg       0.92      0.93      0.92       624\n",
      "weighted avg       0.93      0.92      0.93       624\n",
      "\n"
     ]
    },
    {
     "data": {
      "image/png": "[encoded data removed]",
      "text/plain": [
       "<Figure size 432x288 with 2 Axes>"
      ]
     },
     "metadata": {
      "needs_background": "light",
      "tags": []
     },
     "output_type": "display_data"
    }
   ],
   "source": [
    "predlist_new_cutoff = []\n",
    "\n",
    "for every in predlistauc:\n",
    "    if every > threshold:\n",
    "        predlist_new_cutoff.append(1)\n",
    "    else:\n",
    "        predlist_new_cutoff.append(0)\n",
    "\n",
    "tn, fp, fn, tp = confusion_matrix(lbllist, predlist_new_cutoff).ravel()\n",
    "ConfusionMatrixDisplay(np.concatenate((np.array([[tn, fp]]),np.array([[fn, tp]])), axis=0), display_labels=target_names).plot(values_format=\"d\")\n",
    "print(classification_report(lbllist, predlist_new_cutoff, target_names=target_names))        "
   ]
  },
  {
   "cell_type": "code",
   "execution_count": null,
   "metadata": {
    "id": "s8qaPEDJ5TA-"
   },
   "outputs": [],
   "source": []
  },
  {
   "cell_type": "code",
   "execution_count": null,
   "metadata": {
    "id": "nESmC661Sbtr"
   },
   "outputs": [],
   "source": []
  },
  {
   "cell_type": "code",
   "execution_count": null,
   "metadata": {
    "id": "oGIYvH4RSbrn"
   },
   "outputs": [],
   "source": []
  },
  {
   "cell_type": "code",
   "execution_count": null,
   "metadata": {
    "id": "j_yh1oN6Sboe"
   },
   "outputs": [],
   "source": []
  },
  {
   "cell_type": "code",
   "execution_count": null,
   "metadata": {
    "id": "ExYIAz19Sbmg"
   },
   "outputs": [],
   "source": []
  },
  {
   "cell_type": "code",
   "execution_count": 23,
   "metadata": {
    "id": "XmqsAv5bDNUK"
   },
   "outputs": [
    {
     "name": "stderr",
     "output_type": "stream",
     "text": [
      "Downloading: \"https://download.pytorch.org/models/deeplabv3_resnet50_coco-cd0a2569.pth\" to C:\\Users\\Nikita/.cache\\torch\\hub\\checkpoints\\deeplabv3_resnet50_coco-cd0a2569.pth\n"
     ]
    },
    {
     "data": {
      "application/vnd.jupyter.widget-view+json": {
       "model_id": "de5c186d7b8e421899579da7e3330cbc",
       "version_major": 2,
       "version_minor": 0
      },
      "text/plain": [
       "  0%|          | 0.00/161M [00:00<?, ?B/s]"
      ]
     },
     "metadata": {},
     "output_type": "display_data"
    }
   ],
   "source": []
  },
  {
   "cell_type": "code",
   "execution_count": 24,
   "metadata": {
    "id": "lDmLcnz0ceNp"
   },
   "outputs": [
    {
     "data": {
      "text/plain": [
       "<bound method Module.named_modules of DeepLabV3(\n",
       "  (backbone): IntermediateLayerGetter(\n",
       "    (conv1): Conv2d(3, 64, kernel_size=(7, 7), stride=(2, 2), padding=(3, 3), bias=False)\n",
       "    (bn1): BatchNorm2d(64, eps=1e-05, momentum=0.1, affine=True, track_running_stats=True)\n",
       "    (relu): ReLU(inplace=True)\n",
       "    (maxpool): MaxPool2d(kernel_size=3, stride=2, padding=1, dilation=1, ceil_mode=False)\n",
       "    (layer1): Sequential(\n",
       "      (0): Bottleneck(\n",
       "        (conv1): Conv2d(64, 64, kernel_size=(1, 1), stride=(1, 1), bias=False)\n",
       "        (bn1): BatchNorm2d(64, eps=1e-05, momentum=0.1, affine=True, track_running_stats=True)\n",
       "        (conv2): Conv2d(64, 64, kernel_size=(3, 3), stride=(1, 1), padding=(1, 1), bias=False)\n",
       "        (bn2): BatchNorm2d(64, eps=1e-05, momentum=0.1, affine=True, track_running_stats=True)\n",
       "        (conv3): Conv2d(64, 256, kernel_size=(1, 1), stride=(1, 1), bias=False)\n",
       "        (bn3): BatchNorm2d(256, eps=1e-05, momentum=0.1, affine=True, track_running_stats=True)\n",
       "        (relu): ReLU(inplace=True)\n",
       "        (downsample): Sequential(\n",
       "          (0): Conv2d(64, 256, kernel_size=(1, 1), stride=(1, 1), bias=False)\n",
       "          (1): BatchNorm2d(256, eps=1e-05, momentum=0.1, affine=True, track_running_stats=True)\n",
       "        )\n",
       "      )\n",
       "      (1): Bottleneck(\n",
       "        (conv1): Conv2d(256, 64, kernel_size=(1, 1), stride=(1, 1), bias=False)\n",
       "        (bn1): BatchNorm2d(64, eps=1e-05, momentum=0.1, affine=True, track_running_stats=True)\n",
       "        (conv2): Conv2d(64, 64, kernel_size=(3, 3), stride=(1, 1), padding=(1, 1), bias=False)\n",
       "        (bn2): BatchNorm2d(64, eps=1e-05, momentum=0.1, affine=True, track_running_stats=True)\n",
       "        (conv3): Conv2d(64, 256, kernel_size=(1, 1), stride=(1, 1), bias=False)\n",
       "        (bn3): BatchNorm2d(256, eps=1e-05, momentum=0.1, affine=True, track_running_stats=True)\n",
       "        (relu): ReLU(inplace=True)\n",
       "      )\n",
       "      (2): Bottleneck(\n",
       "        (conv1): Conv2d(256, 64, kernel_size=(1, 1), stride=(1, 1), bias=False)\n",
       "        (bn1): BatchNorm2d(64, eps=1e-05, momentum=0.1, affine=True, track_running_stats=True)\n",
       "        (conv2): Conv2d(64, 64, kernel_size=(3, 3), stride=(1, 1), padding=(1, 1), bias=False)\n",
       "        (bn2): BatchNorm2d(64, eps=1e-05, momentum=0.1, affine=True, track_running_stats=True)\n",
       "        (conv3): Conv2d(64, 256, kernel_size=(1, 1), stride=(1, 1), bias=False)\n",
       "        (bn3): BatchNorm2d(256, eps=1e-05, momentum=0.1, affine=True, track_running_stats=True)\n",
       "        (relu): ReLU(inplace=True)\n",
       "      )\n",
       "    )\n",
       "    (layer2): Sequential(\n",
       "      (0): Bottleneck(\n",
       "        (conv1): Conv2d(256, 128, kernel_size=(1, 1), stride=(1, 1), bias=False)\n",
       "        (bn1): BatchNorm2d(128, eps=1e-05, momentum=0.1, affine=True, track_running_stats=True)\n",
       "        (conv2): Conv2d(128, 128, kernel_size=(3, 3), stride=(2, 2), padding=(1, 1), bias=False)\n",
       "        (bn2): BatchNorm2d(128, eps=1e-05, momentum=0.1, affine=True, track_running_stats=True)\n",
       "        (conv3): Conv2d(128, 512, kernel_size=(1, 1), stride=(1, 1), bias=False)\n",
       "        (bn3): BatchNorm2d(512, eps=1e-05, momentum=0.1, affine=True, track_running_stats=True)\n",
       "        (relu): ReLU(inplace=True)\n",
       "        (downsample): Sequential(\n",
       "          (0): Conv2d(256, 512, kernel_size=(1, 1), stride=(2, 2), bias=False)\n",
       "          (1): BatchNorm2d(512, eps=1e-05, momentum=0.1, affine=True, track_running_stats=True)\n",
       "        )\n",
       "      )\n",
       "      (1): Bottleneck(\n",
       "        (conv1): Conv2d(512, 128, kernel_size=(1, 1), stride=(1, 1), bias=False)\n",
       "        (bn1): BatchNorm2d(128, eps=1e-05, momentum=0.1, affine=True, track_running_stats=True)\n",
       "        (conv2): Conv2d(128, 128, kernel_size=(3, 3), stride=(1, 1), padding=(1, 1), bias=False)\n",
       "        (bn2): BatchNorm2d(128, eps=1e-05, momentum=0.1, affine=True, track_running_stats=True)\n",
       "        (conv3): Conv2d(128, 512, kernel_size=(1, 1), stride=(1, 1), bias=False)\n",
       "        (bn3): BatchNorm2d(512, eps=1e-05, momentum=0.1, affine=True, track_running_stats=True)\n",
       "        (relu): ReLU(inplace=True)\n",
       "      )\n",
       "      (2): Bottleneck(\n",
       "        (conv1): Conv2d(512, 128, kernel_size=(1, 1), stride=(1, 1), bias=False)\n",
       "        (bn1): BatchNorm2d(128, eps=1e-05, momentum=0.1, affine=True, track_running_stats=True)\n",
       "        (conv2): Conv2d(128, 128, kernel_size=(3, 3), stride=(1, 1), padding=(1, 1), bias=False)\n",
       "        (bn2): BatchNorm2d(128, eps=1e-05, momentum=0.1, affine=True, track_running_stats=True)\n",
       "        (conv3): Conv2d(128, 512, kernel_size=(1, 1), stride=(1, 1), bias=False)\n",
       "        (bn3): BatchNorm2d(512, eps=1e-05, momentum=0.1, affine=True, track_running_stats=True)\n",
       "        (relu): ReLU(inplace=True)\n",
       "      )\n",
       "      (3): Bottleneck(\n",
       "        (conv1): Conv2d(512, 128, kernel_size=(1, 1), stride=(1, 1), bias=False)\n",
       "        (bn1): BatchNorm2d(128, eps=1e-05, momentum=0.1, affine=True, track_running_stats=True)\n",
       "        (conv2): Conv2d(128, 128, kernel_size=(3, 3), stride=(1, 1), padding=(1, 1), bias=False)\n",
       "        (bn2): BatchNorm2d(128, eps=1e-05, momentum=0.1, affine=True, track_running_stats=True)\n",
       "        (conv3): Conv2d(128, 512, kernel_size=(1, 1), stride=(1, 1), bias=False)\n",
       "        (bn3): BatchNorm2d(512, eps=1e-05, momentum=0.1, affine=True, track_running_stats=True)\n",
       "        (relu): ReLU(inplace=True)\n",
       "      )\n",
       "    )\n",
       "    (layer3): Sequential(\n",
       "      (0): Bottleneck(\n",
       "        (conv1): Conv2d(512, 256, kernel_size=(1, 1), stride=(1, 1), bias=False)\n",
       "        (bn1): BatchNorm2d(256, eps=1e-05, momentum=0.1, affine=True, track_running_stats=True)\n",
       "        (conv2): Conv2d(256, 256, kernel_size=(3, 3), stride=(1, 1), padding=(1, 1), bias=False)\n",
       "        (bn2): BatchNorm2d(256, eps=1e-05, momentum=0.1, affine=True, track_running_stats=True)\n",
       "        (conv3): Conv2d(256, 1024, kernel_size=(1, 1), stride=(1, 1), bias=False)\n",
       "        (bn3): BatchNorm2d(1024, eps=1e-05, momentum=0.1, affine=True, track_running_stats=True)\n",
       "        (relu): ReLU(inplace=True)\n",
       "        (downsample): Sequential(\n",
       "          (0): Conv2d(512, 1024, kernel_size=(1, 1), stride=(1, 1), bias=False)\n",
       "          (1): BatchNorm2d(1024, eps=1e-05, momentum=0.1, affine=True, track_running_stats=True)\n",
       "        )\n",
       "      )\n",
       "      (1): Bottleneck(\n",
       "        (conv1): Conv2d(1024, 256, kernel_size=(1, 1), stride=(1, 1), bias=False)\n",
       "        (bn1): BatchNorm2d(256, eps=1e-05, momentum=0.1, affine=True, track_running_stats=True)\n",
       "        (conv2): Conv2d(256, 256, kernel_size=(3, 3), stride=(1, 1), padding=(2, 2), dilation=(2, 2), bias=False)\n",
       "        (bn2): BatchNorm2d(256, eps=1e-05, momentum=0.1, affine=True, track_running_stats=True)\n",
       "        (conv3): Conv2d(256, 1024, kernel_size=(1, 1), stride=(1, 1), bias=False)\n",
       "        (bn3): BatchNorm2d(1024, eps=1e-05, momentum=0.1, affine=True, track_running_stats=True)\n",
       "        (relu): ReLU(inplace=True)\n",
       "      )\n",
       "      (2): Bottleneck(\n",
       "        (conv1): Conv2d(1024, 256, kernel_size=(1, 1), stride=(1, 1), bias=False)\n",
       "        (bn1): BatchNorm2d(256, eps=1e-05, momentum=0.1, affine=True, track_running_stats=True)\n",
       "        (conv2): Conv2d(256, 256, kernel_size=(3, 3), stride=(1, 1), padding=(2, 2), dilation=(2, 2), bias=False)\n",
       "        (bn2): BatchNorm2d(256, eps=1e-05, momentum=0.1, affine=True, track_running_stats=True)\n",
       "        (conv3): Conv2d(256, 1024, kernel_size=(1, 1), stride=(1, 1), bias=False)\n",
       "        (bn3): BatchNorm2d(1024, eps=1e-05, momentum=0.1, affine=True, track_running_stats=True)\n",
       "        (relu): ReLU(inplace=True)\n",
       "      )\n",
       "      (3): Bottleneck(\n",
       "        (conv1): Conv2d(1024, 256, kernel_size=(1, 1), stride=(1, 1), bias=False)\n",
       "        (bn1): BatchNorm2d(256, eps=1e-05, momentum=0.1, affine=True, track_running_stats=True)\n",
       "        (conv2): Conv2d(256, 256, kernel_size=(3, 3), stride=(1, 1), padding=(2, 2), dilation=(2, 2), bias=False)\n",
       "        (bn2): BatchNorm2d(256, eps=1e-05, momentum=0.1, affine=True, track_running_stats=True)\n",
       "        (conv3): Conv2d(256, 1024, kernel_size=(1, 1), stride=(1, 1), bias=False)\n",
       "        (bn3): BatchNorm2d(1024, eps=1e-05, momentum=0.1, affine=True, track_running_stats=True)\n",
       "        (relu): ReLU(inplace=True)\n",
       "      )\n",
       "      (4): Bottleneck(\n",
       "        (conv1): Conv2d(1024, 256, kernel_size=(1, 1), stride=(1, 1), bias=False)\n",
       "        (bn1): BatchNorm2d(256, eps=1e-05, momentum=0.1, affine=True, track_running_stats=True)\n",
       "        (conv2): Conv2d(256, 256, kernel_size=(3, 3), stride=(1, 1), padding=(2, 2), dilation=(2, 2), bias=False)\n",
       "        (bn2): BatchNorm2d(256, eps=1e-05, momentum=0.1, affine=True, track_running_stats=True)\n",
       "        (conv3): Conv2d(256, 1024, kernel_size=(1, 1), stride=(1, 1), bias=False)\n",
       "        (bn3): BatchNorm2d(1024, eps=1e-05, momentum=0.1, affine=True, track_running_stats=True)\n",
       "        (relu): ReLU(inplace=True)\n",
       "      )\n",
       "      (5): Bottleneck(\n",
       "        (conv1): Conv2d(1024, 256, kernel_size=(1, 1), stride=(1, 1), bias=False)\n",
       "        (bn1): BatchNorm2d(256, eps=1e-05, momentum=0.1, affine=True, track_running_stats=True)\n",
       "        (conv2): Conv2d(256, 256, kernel_size=(3, 3), stride=(1, 1), padding=(2, 2), dilation=(2, 2), bias=False)\n",
       "        (bn2): BatchNorm2d(256, eps=1e-05, momentum=0.1, affine=True, track_running_stats=True)\n",
       "        (conv3): Conv2d(256, 1024, kernel_size=(1, 1), stride=(1, 1), bias=False)\n",
       "        (bn3): BatchNorm2d(1024, eps=1e-05, momentum=0.1, affine=True, track_running_stats=True)\n",
       "        (relu): ReLU(inplace=True)\n",
       "      )\n",
       "    )\n",
       "    (layer4): Sequential(\n",
       "      (0): Bottleneck(\n",
       "        (conv1): Conv2d(1024, 512, kernel_size=(1, 1), stride=(1, 1), bias=False)\n",
       "        (bn1): BatchNorm2d(512, eps=1e-05, momentum=0.1, affine=True, track_running_stats=True)\n",
       "        (conv2): Conv2d(512, 512, kernel_size=(3, 3), stride=(1, 1), padding=(2, 2), dilation=(2, 2), bias=False)\n",
       "        (bn2): BatchNorm2d(512, eps=1e-05, momentum=0.1, affine=True, track_running_stats=True)\n",
       "        (conv3): Conv2d(512, 2048, kernel_size=(1, 1), stride=(1, 1), bias=False)\n",
       "        (bn3): BatchNorm2d(2048, eps=1e-05, momentum=0.1, affine=True, track_running_stats=True)\n",
       "        (relu): ReLU(inplace=True)\n",
       "        (downsample): Sequential(\n",
       "          (0): Conv2d(1024, 2048, kernel_size=(1, 1), stride=(1, 1), bias=False)\n",
       "          (1): BatchNorm2d(2048, eps=1e-05, momentum=0.1, affine=True, track_running_stats=True)\n",
       "        )\n",
       "      )\n",
       "      (1): Bottleneck(\n",
       "        (conv1): Conv2d(2048, 512, kernel_size=(1, 1), stride=(1, 1), bias=False)\n",
       "        (bn1): BatchNorm2d(512, eps=1e-05, momentum=0.1, affine=True, track_running_stats=True)\n",
       "        (conv2): Conv2d(512, 512, kernel_size=(3, 3), stride=(1, 1), padding=(4, 4), dilation=(4, 4), bias=False)\n",
       "        (bn2): BatchNorm2d(512, eps=1e-05, momentum=0.1, affine=True, track_running_stats=True)\n",
       "        (conv3): Conv2d(512, 2048, kernel_size=(1, 1), stride=(1, 1), bias=False)\n",
       "        (bn3): BatchNorm2d(2048, eps=1e-05, momentum=0.1, affine=True, track_running_stats=True)\n",
       "        (relu): ReLU(inplace=True)\n",
       "      )\n",
       "      (2): Bottleneck(\n",
       "        (conv1): Conv2d(2048, 512, kernel_size=(1, 1), stride=(1, 1), bias=False)\n",
       "        (bn1): BatchNorm2d(512, eps=1e-05, momentum=0.1, affine=True, track_running_stats=True)\n",
       "        (conv2): Conv2d(512, 512, kernel_size=(3, 3), stride=(1, 1), padding=(4, 4), dilation=(4, 4), bias=False)\n",
       "        (bn2): BatchNorm2d(512, eps=1e-05, momentum=0.1, affine=True, track_running_stats=True)\n",
       "        (conv3): Conv2d(512, 2048, kernel_size=(1, 1), stride=(1, 1), bias=False)\n",
       "        (bn3): BatchNorm2d(2048, eps=1e-05, momentum=0.1, affine=True, track_running_stats=True)\n",
       "        (relu): ReLU(inplace=True)\n",
       "      )\n",
       "    )\n",
       "  )\n",
       "  (classifier): DeepLabHead(\n",
       "    (0): ASPP(\n",
       "      (convs): ModuleList(\n",
       "        (0): Sequential(\n",
       "          (0): Conv2d(2048, 256, kernel_size=(1, 1), stride=(1, 1), bias=False)\n",
       "          (1): BatchNorm2d(256, eps=1e-05, momentum=0.1, affine=True, track_running_stats=True)\n",
       "          (2): ReLU()\n",
       "        )\n",
       "        (1): ASPPConv(\n",
       "          (0): Conv2d(2048, 256, kernel_size=(3, 3), stride=(1, 1), padding=(12, 12), dilation=(12, 12), bias=False)\n",
       "          (1): BatchNorm2d(256, eps=1e-05, momentum=0.1, affine=True, track_running_stats=True)\n",
       "          (2): ReLU()\n",
       "        )\n",
       "        (2): ASPPConv(\n",
       "          (0): Conv2d(2048, 256, kernel_size=(3, 3), stride=(1, 1), padding=(24, 24), dilation=(24, 24), bias=False)\n",
       "          (1): BatchNorm2d(256, eps=1e-05, momentum=0.1, affine=True, track_running_stats=True)\n",
       "          (2): ReLU()\n",
       "        )\n",
       "        (3): ASPPConv(\n",
       "          (0): Conv2d(2048, 256, kernel_size=(3, 3), stride=(1, 1), padding=(36, 36), dilation=(36, 36), bias=False)\n",
       "          (1): BatchNorm2d(256, eps=1e-05, momentum=0.1, affine=True, track_running_stats=True)\n",
       "          (2): ReLU()\n",
       "        )\n",
       "        (4): ASPPPooling(\n",
       "          (0): AdaptiveAvgPool2d(output_size=1)\n",
       "          (1): Conv2d(2048, 256, kernel_size=(1, 1), stride=(1, 1), bias=False)\n",
       "          (2): BatchNorm2d(256, eps=1e-05, momentum=0.1, affine=True, track_running_stats=True)\n",
       "          (3): ReLU()\n",
       "        )\n",
       "      )\n",
       "      (project): Sequential(\n",
       "        (0): Conv2d(1280, 256, kernel_size=(1, 1), stride=(1, 1), bias=False)\n",
       "        (1): BatchNorm2d(256, eps=1e-05, momentum=0.1, affine=True, track_running_stats=True)\n",
       "        (2): ReLU()\n",
       "        (3): Dropout(p=0.5, inplace=False)\n",
       "      )\n",
       "    )\n",
       "    (1): Conv2d(256, 256, kernel_size=(3, 3), stride=(1, 1), padding=(1, 1), bias=False)\n",
       "    (2): BatchNorm2d(256, eps=1e-05, momentum=0.1, affine=True, track_running_stats=True)\n",
       "    (3): ReLU()\n",
       "    (4): Conv2d(256, 21, kernel_size=(1, 1), stride=(1, 1))\n",
       "  )\n",
       "  (aux_classifier): FCNHead(\n",
       "    (0): Conv2d(1024, 256, kernel_size=(3, 3), stride=(1, 1), padding=(1, 1), bias=False)\n",
       "    (1): BatchNorm2d(256, eps=1e-05, momentum=0.1, affine=True, track_running_stats=True)\n",
       "    (2): ReLU()\n",
       "    (3): Dropout(p=0.1, inplace=False)\n",
       "    (4): Conv2d(256, 21, kernel_size=(1, 1), stride=(1, 1))\n",
       "  )\n",
       ")>"
      ]
     },
     "execution_count": 24,
     "metadata": {},
     "output_type": "execute_result"
    }
   ],
   "source": []
  },
  {
   "cell_type": "code",
   "execution_count": null,
   "metadata": {
    "id": "aBgxWZlfceLl"
   },
   "outputs": [],
   "source": []
  },
  {
   "cell_type": "code",
   "execution_count": null,
   "metadata": {
    "id": "K4RCKf3cceI4"
   },
   "outputs": [],
   "source": []
  },
  {
   "cell_type": "code",
   "execution_count": null,
   "metadata": {
    "id": "kMN5FeW5ceG2"
   },
   "outputs": [],
   "source": []
  },
  {
   "cell_type": "code",
   "execution_count": null,
   "metadata": {
    "id": "_GYXiOzXceEa"
   },
   "outputs": [],
   "source": []
  },
  {
   "cell_type": "code",
   "execution_count": null,
   "metadata": {
    "id": "p_M31hEwcd9l"
   },
   "outputs": [],
   "source": []
  },
  {
   "cell_type": "code",
   "execution_count": null,
   "metadata": {
    "id": "M8ZT-bRMcd6y"
   },
   "outputs": [],
   "source": []
  },
  {
   "cell_type": "code",
   "execution_count": null,
   "metadata": {
    "id": "eTT6le-Hcd4v"
   },
   "outputs": [],
   "source": []
  },
  {
   "cell_type": "code",
   "execution_count": null,
   "metadata": {
    "id": "RnfO2AOqcd2I"
   },
   "outputs": [],
   "source": []
  },
  {
   "cell_type": "code",
   "execution_count": null,
   "metadata": {
    "id": "rC2s-dBwcd0E"
   },
   "outputs": [],
   "source": []
  },
  {
   "cell_type": "code",
   "execution_count": null,
   "metadata": {
    "id": "FhaeBlGocdyF"
   },
   "outputs": [],
   "source": []
  },
  {
   "cell_type": "code",
   "execution_count": null,
   "metadata": {
    "id": "1jsrrEhecdwG"
   },
   "outputs": [],
   "source": []
  },
  {
   "cell_type": "code",
   "execution_count": 13,
   "metadata": {
    "id": "tn9VZcdEcdue"
   },
   "outputs": [],
   "source": []
  },
  {
   "cell_type": "code",
   "execution_count": 20,
   "metadata": {
    "id": "vAxYA5RScdsb"
   },
   "outputs": [],
   "source": []
  },
  {
   "cell_type": "code",
   "execution_count": null,
   "metadata": {
    "id": "lkTPTDEccdpe"
   },
   "outputs": [],
   "source": []
  },
  {
   "cell_type": "code",
   "execution_count": null,
   "metadata": {
    "id": "K1uELwPicdnc"
   },
   "outputs": [],
   "source": []
  },
  {
   "cell_type": "code",
   "execution_count": null,
   "metadata": {
    "id": "rG3L0v8LcdlY"
   },
   "outputs": [],
   "source": []
  }
 ],
 "metadata": {
  "accelerator": "GPU",
  "colab": {
   "collapsed_sections": [],
   "name": "Lung_pneumonia_classifier.ipynb",
   "provenance": []
  },
  "kernelspec": {
   "display_name": "Python 3",
   "language": "python",
   "name": "python3"
  },
  "language_info": {
   "codemirror_mode": {
    "name": "ipython",
    "version": 3
   },
   "file_extension": ".py",
   "mimetype": "text/x-python",
   "name": "python",
   "nbconvert_exporter": "python",
   "pygments_lexer": "ipython3",
   "version": "3.8.7"
  }
 },
 "nbformat": 4,
 "nbformat_minor": 4
}
